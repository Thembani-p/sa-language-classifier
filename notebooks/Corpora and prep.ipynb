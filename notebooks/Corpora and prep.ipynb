{
 "cells": [
  {
   "cell_type": "markdown",
   "metadata": {},
   "source": [
    "# Preparing the corpora\n",
    "\n",
    "```\n",
    "\n",
    "\n",
    "\n",
    "\n",
    "```\n",
    "#### contents\n",
    "- [Retreiving the files](#Retreiving-the-files)\n",
    "- [Preparation](#Preparation)\n",
    "- [A quick look at the data](#A-quick-look-at-the-data)\n",
    "- [Training and test split](#Training-and-test-split)\n",
    "- [Final notes](#Final-notes)"
   ]
  },
  {
   "cell_type": "markdown",
   "metadata": {},
   "source": [
    "## Retreiving the files\n",
    "\n",
    "- [contents](#contents)"
   ]
  },
  {
   "cell_type": "markdown",
   "metadata": {
    "collapsed": true
   },
   "source": [
    "resources available at : https://www.sadilar.org/\n",
    "\n",
    "language   - Language codes : corpora uri\n",
    "\n",
    "- isiNdebele - nr  : https://repo.sadilar.org/handle/20.500.12185/308\n",
    "- isiXhosa   - xh  : https://repo.sadilar.org/handle/20.500.12185/314\n",
    "- isiZulu    - zu  : https://repo.sadilar.org/handle/20.500.12185/321\n",
    "- sePedi     - nso : https://repo.sadilar.org/handle/20.500.12185/330\n",
    "- seSotho    - st  : https://repo.sadilar.org/handle/20.500.12185/336\n",
    "- seTswana   - tn  : https://repo.sadilar.org/handle/20.500.12185/343\n",
    "- siSwati    - ss  : https://repo.sadilar.org/handle/20.500.12185/348\n",
    "- tshiVenda  - ve  : https://repo.sadilar.org/handle/20.500.12185/357\n",
    "- xiTsonga   - ts  : https://repo.sadilar.org/handle/20.500.12185/364\n",
    "- Afikaans   - af  : https://repo.sadilar.org/handle/20.500.12185/293\n",
    "- English    - en  : https://repo.sadilar.org/handle/20.500.12185/301\n",
    "\n",
    "Download each file in turn and put it in the data folder and corpora subfolder."
   ]
  },
  {
   "cell_type": "code",
   "execution_count": 54,
   "metadata": {
    "scrolled": true
   },
   "outputs": [],
   "source": [
    "import os\n",
    "import sys\n",
    "import json\n",
    "import pickle\n",
    "import zipfile\n",
    "import pandas as pd\n",
    "import matplotlib.pyplot as plt\n",
    "import seaborn as sns\n",
    "\n",
    "from sklearn.model_selection import train_test_split"
   ]
  },
  {
   "cell_type": "code",
   "execution_count": 3,
   "metadata": {},
   "outputs": [],
   "source": [
    "DATA_PATH = '../data'\n",
    "MODULES_PATH = '../modules'\n",
    "\n",
    "sys.path.append(MODULES_PATH)"
   ]
  },
  {
   "cell_type": "code",
   "execution_count": 59,
   "metadata": {},
   "outputs": [],
   "source": [
    "from data import raise_one_level, prepare_training_data"
   ]
  },
  {
   "cell_type": "markdown",
   "metadata": {},
   "source": [
    "## Preparation\n",
    "\n",
    "- [contents](#contents)"
   ]
  },
  {
   "cell_type": "markdown",
   "metadata": {},
   "source": [
    "We start by pulling out the langauage codes from the files."
   ]
  },
  {
   "cell_type": "code",
   "execution_count": 5,
   "metadata": {},
   "outputs": [
    {
     "data": {
      "text/plain": [
       "['af', 'en', 'nr', 'nso', 'ss', 'st', 'tn', 'ts', 've', 'xh', 'zu']"
      ]
     },
     "execution_count": 5,
     "metadata": {},
     "output_type": "execute_result"
    }
   ],
   "source": [
    "file_listing = os.listdir(os.path.join(DATA_PATH,'corpora'))\n",
    "\n",
    "language_codes = [i.replace(\"corpora.nchlt.\",\"\").replace(\".zip\",\"\") for i in file_listing]\n",
    "language_codes"
   ]
  },
  {
   "cell_type": "markdown",
   "metadata": {},
   "source": [
    "Then we read each file in turn and track the file title, the body of the text and the class."
   ]
  },
  {
   "cell_type": "code",
   "execution_count": 6,
   "metadata": {
    "collapsed": true
   },
   "outputs": [],
   "source": [
    "prepped_documents = []\n",
    "\n",
    "for idx, zipped in enumerate(file_listing):\n",
    "    if language_codes[idx] == 'en':\n",
    "        zfilename = '{}/1.Corpus/CORP.NCHLT.{}.CLEAN.1.0.0.txt'.format(language_codes[idx],\"{}\")\n",
    "    else:\n",
    "        zfilename = '{}/2.Corpora/CORP.NCHLT.{}.CLEAN.2.0.txt'.format(language_codes[idx],\"{}\")\n",
    "    \n",
    "    \n",
    "    with zipfile.ZipFile('../data/corpora/{}'.format(zipped)) as z:\n",
    "        language_codes[idx] if True else 'no'\n",
    "        code = 'eng' if language_codes[idx] == 'en' else language_codes[idx]\n",
    "        \n",
    "        with z.open(zfilename.format(code)) as f:\n",
    "            lines = f.readlines()\n",
    "\n",
    "    text = \"\".join([str(i) for i in lines[::11]])\n",
    "    documents = text.replace(\"\\\\n\",\"\").split(\"<fn>\")\n",
    "    \n",
    "    for document in documents:\n",
    "        document_split = document.split(\"</fn>\")\n",
    "        if len(document_split) > 1:\n",
    "            title, body = document_split\n",
    "            prepped_documents.append({'title': title, 'body': body, 'class': language_codes[idx]})"
   ]
  },
  {
   "cell_type": "markdown",
   "metadata": {},
   "source": [
    "## A quick look at the data\n",
    "\n",
    "- [contents](#contents)"
   ]
  },
  {
   "cell_type": "markdown",
   "metadata": {},
   "source": [
    "We convert the data to a dataframe for easy analysis. We have 1650 documents. We would like to have a look at the class distribution in terms of \n",
    "\n",
    "- documents\n",
    "- sentences\n",
    "- word\n",
    "- characters\n",
    "\n",
    "Ultimately we would like enough data to be able to train a reasonably good model but not too much data so we have memory problems."
   ]
  },
  {
   "cell_type": "code",
   "execution_count": 8,
   "metadata": {},
   "outputs": [
    {
     "data": {
      "text/plain": [
       "(1650, 3)"
      ]
     },
     "execution_count": 8,
     "metadata": {},
     "output_type": "execute_result"
    }
   ],
   "source": [
    "documents_df = pd.DataFrame(prepped_documents)\n",
    "documents_df.shape"
   ]
  },
  {
   "cell_type": "markdown",
   "metadata": {},
   "source": [
    "We check the data to make sure its correctly formatted."
   ]
  },
  {
   "cell_type": "code",
   "execution_count": 9,
   "metadata": {},
   "outputs": [
    {
     "data": {
      "text/html": [
       "<div>\n",
       "<style scoped>\n",
       "    .dataframe tbody tr th:only-of-type {\n",
       "        vertical-align: middle;\n",
       "    }\n",
       "\n",
       "    .dataframe tbody tr th {\n",
       "        vertical-align: top;\n",
       "    }\n",
       "\n",
       "    .dataframe thead th {\n",
       "        text-align: right;\n",
       "    }\n",
       "</style>\n",
       "<table border=\"1\" class=\"dataframe\">\n",
       "  <thead>\n",
       "    <tr style=\"text-align: right;\">\n",
       "      <th></th>\n",
       "      <th>body</th>\n",
       "      <th>class</th>\n",
       "      <th>title</th>\n",
       "    </tr>\n",
       "  </thead>\n",
       "  <tbody>\n",
       "    <tr>\n",
       "      <th>0</th>\n",
       "      <td>\\r'b\"Werkende aansoekers: Dui asseblief jou ba...</td>\n",
       "      <td>af</td>\n",
       "      <td>(1124200875659 AM) GEMS_APP(AFRIKAANS).txt</td>\n",
       "    </tr>\n",
       "    <tr>\n",
       "      <th>1</th>\n",
       "      <td>\\r'b'Uitstekende gesondheidsorgvoordele teen b...</td>\n",
       "      <td>af</td>\n",
       "      <td>(3102010124331 PM) FINAL MB AFRIKAANS.txt</td>\n",
       "    </tr>\n",
       "    <tr>\n",
       "      <th>2</th>\n",
       "      <td>\\r'b'Uitstekende gesondheidsorgvoordele teen b...</td>\n",
       "      <td>af</td>\n",
       "      <td>(3172010120044 PM) FINAL MB AFRIKAANS.txt</td>\n",
       "    </tr>\n",
       "    <tr>\n",
       "      <th>3</th>\n",
       "      <td>\\r'b'Om alle staatsdienswerknemers van gelyke ...</td>\n",
       "      <td>af</td>\n",
       "      <td>(32201090225 AM) REO Afrikaans met benefit sch...</td>\n",
       "    </tr>\n",
       "    <tr>\n",
       "      <th>4</th>\n",
       "      <td>\\r'b\"Sou u na 1 Januarie van 'n jaar aansluit,...</td>\n",
       "      <td>af</td>\n",
       "      <td>(42200942018 PM) NIMAS_Appli. FormAfr_PD7023.txt</td>\n",
       "    </tr>\n",
       "  </tbody>\n",
       "</table>\n",
       "</div>"
      ],
      "text/plain": [
       "                                                body class  \\\n",
       "0  \\r'b\"Werkende aansoekers: Dui asseblief jou ba...    af   \n",
       "1  \\r'b'Uitstekende gesondheidsorgvoordele teen b...    af   \n",
       "2  \\r'b'Uitstekende gesondheidsorgvoordele teen b...    af   \n",
       "3  \\r'b'Om alle staatsdienswerknemers van gelyke ...    af   \n",
       "4  \\r'b\"Sou u na 1 Januarie van 'n jaar aansluit,...    af   \n",
       "\n",
       "                                               title  \n",
       "0         (1124200875659 AM) GEMS_APP(AFRIKAANS).txt  \n",
       "1          (3102010124331 PM) FINAL MB AFRIKAANS.txt  \n",
       "2          (3172010120044 PM) FINAL MB AFRIKAANS.txt  \n",
       "3  (32201090225 AM) REO Afrikaans met benefit sch...  \n",
       "4   (42200942018 PM) NIMAS_Appli. FormAfr_PD7023.txt  "
      ]
     },
     "execution_count": 9,
     "metadata": {},
     "output_type": "execute_result"
    }
   ],
   "source": [
    "documents_df.head()"
   ]
  },
  {
   "cell_type": "markdown",
   "metadata": {},
   "source": [
    "The document counts are over weight for Afrikaans, English and Xhosa. These languages are quite common in the Cape, that seems curious. "
   ]
  },
  {
   "cell_type": "code",
   "execution_count": 10,
   "metadata": {},
   "outputs": [
    {
     "data": {
      "text/plain": [
       "af     436\n",
       "en     355\n",
       "xh     240\n",
       "st      98\n",
       "nr      93\n",
       "tn      90\n",
       "zu      81\n",
       "nso     72\n",
       "ss      69\n",
       "ve      63\n",
       "ts      53\n",
       "Name: class, dtype: int64"
      ]
     },
     "execution_count": 10,
     "metadata": {},
     "output_type": "execute_result"
    }
   ],
   "source": [
    "# document counts\n",
    "\n",
    "documents_df['class'].value_counts()"
   ]
  },
  {
   "cell_type": "code",
   "execution_count": 17,
   "metadata": {},
   "outputs": [
    {
     "data": {
      "image/png": "[encoded data removed]",
      "text/plain": [
       "<Figure size 1152x648 with 1 Axes>"
      ]
     },
     "metadata": {
      "needs_background": "light"
     },
     "output_type": "display_data"
    }
   ],
   "source": [
    "plt.figure(figsize=(16,9))\n",
    "ax = sns.countplot(x=\"class\", data=documents_df)"
   ]
  },
  {
   "cell_type": "markdown",
   "metadata": {},
   "source": [
    "The sentence counts are a little different. They are well balanced, at roughly `3000` each with Venda under weight around `2053` and English over weight at `9736`. "
   ]
  },
  {
   "cell_type": "code",
   "execution_count": 38,
   "metadata": {},
   "outputs": [
    {
     "data": {
      "text/plain": [
       "af     4645\n",
       "en     9736\n",
       "nr     2520\n",
       "nso    3591\n",
       "ss     3148\n",
       "st     3189\n",
       "tn     2394\n",
       "ts     2635\n",
       "ve     2053\n",
       "xh     3274\n",
       "zu     3371\n",
       "Name: body, dtype: int64"
      ]
     },
     "execution_count": 38,
     "metadata": {},
     "output_type": "execute_result"
    }
   ],
   "source": [
    "# sentence counts - beautifully balanced\n",
    "\n",
    "sentence_counts = documents_df['body'].apply(lambda x: len(x.split(\". \"))).dot(pd.get_dummies(documents_df['class'])) \n",
    "sentence_counts"
   ]
  },
  {
   "cell_type": "code",
   "execution_count": 20,
   "metadata": {},
   "outputs": [
    {
     "data": {
      "text/plain": [
       "Index(['af', 'en', 'nr', 'nso', 'ss', 'st', 'tn', 'ts', 've', 'xh', 'zu'], dtype='object')"
      ]
     },
     "execution_count": 20,
     "metadata": {},
     "output_type": "execute_result"
    }
   ],
   "source": [
    "sentence_counts.index"
   ]
  },
  {
   "cell_type": "code",
   "execution_count": 21,
   "metadata": {},
   "outputs": [
    {
     "data": {
      "text/plain": [
       "<BarContainer object of 11 artists>"
      ]
     },
     "execution_count": 21,
     "metadata": {},
     "output_type": "execute_result"
    },
    {
     "data": {
      "image/png": "[encoded data removed]",
      "text/plain": [
       "<Figure size 1152x648 with 1 Axes>"
      ]
     },
     "metadata": {
      "needs_background": "light"
     },
     "output_type": "display_data"
    }
   ],
   "source": [
    "plt.figure(figsize=(16,9))\n",
    "plt.bar(sentence_counts.index, sentence_counts)"
   ]
  },
  {
   "cell_type": "markdown",
   "metadata": {},
   "source": [
    "The sentence distributions look good but they are not immediately accessible. They are reformatted here. First they are extraced a separate object called `sentences`. Second there is a string `'\\\\r\\'b\\'` which needs to be stripped form the first sentence of each document. Finally the sentences are put in an unested list, where each document is a dictionary with classes body and class, representing the text and classs respectively."
   ]
  },
  {
   "cell_type": "code",
   "execution_count": 23,
   "metadata": {
    "collapsed": true
   },
   "outputs": [],
   "source": [
    "sentences = documents_df.apply(lambda x: [{'class': x['class'], 'body': b} for b in x['body'].split(\". \")], \n",
    "                              axis=1).values.tolist()"
   ]
  },
  {
   "cell_type": "code",
   "execution_count": 24,
   "metadata": {},
   "outputs": [],
   "source": [
    "doc_ids = documents_df['class'].value_counts().cumsum()"
   ]
  },
  {
   "cell_type": "code",
   "execution_count": 25,
   "metadata": {},
   "outputs": [
    {
     "data": {
      "text/plain": [
       "({'class': 'af',\n",
       "  'body': '\\\\r\\'b\"Werkende aansoekers: Dui asseblief jou basiese maandelikse salaris aan'},\n",
       " {'class': 'nr',\n",
       "  'body': \"\\\\r'b'Nangabe iye, ingabe ulilunga eliyihloko namkha ungowondliwako?\\\\r'b'Ngiyezwisisa kobana imininingwana yami emayelana nezamaphilo ayizokusetjenziselwa iinhloso ezimayela nerhwebo namkha ithengiswe ngehloso yokwenza imali.\\\\r'b'Ngiyamukela kobana isiKimu/abasebenzeli baso bazakubhadela izibizo ezibonakala ziliqiniso begodu ngokuya ngemithetho yesiKimu.\\\\r'b'Amaforomo i-M2 ne-Z583, nangabe urhola ipentjheni begodu/namkha gade usebenza kurhulumende ngaphambilini.\\\\r'b'Tjheja: Nangabe isibongo somntwana siyahluka nesitatimende selunga esiqinisa isibopho emntwaneni besinikele nonobangela womehluko loyo siyafuneka.\\\\r'b'Sibawa wenze ukukhetha kwakho ngokutjheja, Njengoba angeze wakghona ukutjhugulula ukukhetha kwakho phakathi nonyaka ngaphandle kwakobana lokho kudluliswe yiBhodo yokweLusa iimali.\\\\r'b'UmThetho uthi wena namkha obondlako angeze natloliswa eenkimini ezimbili zokweLapha ngasikhathi sinye.\\\\r'b'ukuvikela ukubambezeleka ekuphumeleliseni isibawo sakho.\\\\r'b'Ubusika buhlala bulandelwa sikhathi esihle kunye nepilo yethwasahlobo!\\\\r'b'Ukwethukwa akhenge kwenze umuntu azizwe atjhaphulukile!\\\\r'b'Lokhu kuqinisekisa kobana senza ikambiso yokwamukela isibawo sakho ngendlela efaneleko.\\\\r'b'418 ekwabelwana ngayo esibhedlela samazinyo qobe minyaka emibili\"},\n",
       " {'class': 'st',\n",
       "  'body': \"\\\\r'b'Dibata tse ngata di ile tsa tsoswa letsholong.\\\\r'b'Matswathaka / kgorula - Lokisa e le nngwe ho tsona..\\\\r'b'eo ke bua ka ngwana eo.\\\\r'b'Ke ile ka itoma ha bohloko.\\\\r'b'Diphapang : Phamokate ntja mme\"},\n",
       " {'class': 'zu',\n",
       "  'body': \"\\\\r'b'Mphuthumise ngokushesha emtholampilo noma kwindawo yokwelapha ngokushesha okukhulu lowo muntu.\\\\r'b'Ukwakha amandla ezomthetho: Ngaphansi kwalesi sikhwama sohlelo kunikezelwa ukuqinisa isikhungo nokuqinisekisa ukuxhaswa kwaso kwesikhathi eside.\\\\r'b'Ukwesindwa kogesi kungaholela nasemandleni kagesi angalawuleki ngokwezinga elejwayelekile nokuyinto engalimaza izinto zasendlini ezisebenza ngogesi, ikakhulu kulawo makhasimende awukhokhelayo ugesi\"})"
      ]
     },
     "execution_count": 25,
     "metadata": {},
     "output_type": "execute_result"
    }
   ],
   "source": [
    "sentences[0][0], sentences[doc_ids[1]][0], sentences[doc_ids[2]][0], sentences[doc_ids[10]-1][0]"
   ]
  },
  {
   "cell_type": "code",
   "execution_count": 26,
   "metadata": {
    "scrolled": false
   },
   "outputs": [
    {
     "data": {
      "text/plain": [
       "40556"
      ]
     },
     "execution_count": 26,
     "metadata": {},
     "output_type": "execute_result"
    }
   ],
   "source": [
    "sum([len(i) for i in sentences])"
   ]
  },
  {
   "cell_type": "code",
   "execution_count": 29,
   "metadata": {},
   "outputs": [
    {
     "data": {
      "text/plain": [
       "40556"
      ]
     },
     "execution_count": 29,
     "metadata": {},
     "output_type": "execute_result"
    }
   ],
   "source": [
    "for idx, i in enumerate(sentences):\n",
    "    for jdx, j in enumerate(i):\n",
    "        sentences[idx][jdx]['body'] = j['body'].replace(\"\"\"\\\\r\\'b\\\"\"\"\",\"\")\n",
    "\n",
    "flat_sentences = raise_one_level(sentences)\n",
    "len(flat_sentences)"
   ]
  },
  {
   "cell_type": "code",
   "execution_count": 30,
   "metadata": {},
   "outputs": [
    {
     "data": {
      "text/plain": [
       "'Werkende aansoekers: Dui asseblief jou basiese maandelikse salaris aan'"
      ]
     },
     "execution_count": 30,
     "metadata": {},
     "output_type": "execute_result"
    }
   ],
   "source": [
    "flat_sentences[0]['body']"
   ]
  },
  {
   "cell_type": "code",
   "execution_count": 31,
   "metadata": {},
   "outputs": [
    {
     "data": {
      "text/html": [
       "<div>\n",
       "<style scoped>\n",
       "    .dataframe tbody tr th:only-of-type {\n",
       "        vertical-align: middle;\n",
       "    }\n",
       "\n",
       "    .dataframe tbody tr th {\n",
       "        vertical-align: top;\n",
       "    }\n",
       "\n",
       "    .dataframe thead th {\n",
       "        text-align: right;\n",
       "    }\n",
       "</style>\n",
       "<table border=\"1\" class=\"dataframe\">\n",
       "  <thead>\n",
       "    <tr style=\"text-align: right;\">\n",
       "      <th></th>\n",
       "      <th>body</th>\n",
       "      <th>class</th>\n",
       "    </tr>\n",
       "  </thead>\n",
       "  <tbody>\n",
       "    <tr>\n",
       "      <th>0</th>\n",
       "      <td>Werkende aansoekers: Dui asseblief jou basiese...</td>\n",
       "      <td>af</td>\n",
       "    </tr>\n",
       "    <tr>\n",
       "      <th>1</th>\n",
       "      <td>As jy op middel- of senior bestuursvlak is, du...</td>\n",
       "      <td>af</td>\n",
       "    </tr>\n",
       "    <tr>\n",
       "      <th>2</th>\n",
       "      <td>sluit jongste salarisstrokie of aanstellingsbr...</td>\n",
       "      <td>af</td>\n",
       "    </tr>\n",
       "    <tr>\n",
       "      <th>3</th>\n",
       "      <td>Ek verstaan dat indien daar enige verswyging o...</td>\n",
       "      <td>af</td>\n",
       "    </tr>\n",
       "    <tr>\n",
       "      <th>4</th>\n",
       "      <td>As jy 'n staatsamptenaar is, verskyn jou organ...</td>\n",
       "      <td>af</td>\n",
       "    </tr>\n",
       "  </tbody>\n",
       "</table>\n",
       "</div>"
      ],
      "text/plain": [
       "                                                body class\n",
       "0  Werkende aansoekers: Dui asseblief jou basiese...    af\n",
       "1  As jy op middel- of senior bestuursvlak is, du...    af\n",
       "2  sluit jongste salarisstrokie of aanstellingsbr...    af\n",
       "3  Ek verstaan dat indien daar enige verswyging o...    af\n",
       "4  As jy 'n staatsamptenaar is, verskyn jou organ...    af"
      ]
     },
     "execution_count": 31,
     "metadata": {},
     "output_type": "execute_result"
    }
   ],
   "source": [
    "pd.DataFrame(flat_sentences).head()"
   ]
  },
  {
   "cell_type": "code",
   "execution_count": 42,
   "metadata": {},
   "outputs": [],
   "source": [
    "with open(os.path.join(DATA_PATH, 'sentences.json'),'w') as datafile:\n",
    "    json.dump(flat_sentences, datafile)"
   ]
  },
  {
   "cell_type": "markdown",
   "metadata": {},
   "source": [
    "The word counts vary around 100,000 with English around 500,000."
   ]
  },
  {
   "cell_type": "code",
   "execution_count": 33,
   "metadata": {},
   "outputs": [
    {
     "data": {
      "text/plain": [
       "af     194856\n",
       "en     487449\n",
       "nr      67973\n",
       "nso    187641\n",
       "ss      69755\n",
       "st     159820\n",
       "tn     110827\n",
       "ts     115381\n",
       "ve      86720\n",
       "xh      98303\n",
       "zu     128647\n",
       "Name: body, dtype: int64"
      ]
     },
     "execution_count": 33,
     "metadata": {},
     "output_type": "execute_result"
    }
   ],
   "source": [
    "# word counts\n",
    "\n",
    "word_counts = documents_df['body'].apply(lambda x: len(x.split())).dot(pd.get_dummies(documents_df['class'])) \n",
    "word_counts"
   ]
  },
  {
   "cell_type": "code",
   "execution_count": 34,
   "metadata": {},
   "outputs": [
    {
     "data": {
      "text/plain": [
       "<BarContainer object of 11 artists>"
      ]
     },
     "execution_count": 34,
     "metadata": {},
     "output_type": "execute_result"
    },
    {
     "data": {
      "image/png": "[encoded data removed]",
      "text/plain": [
       "<Figure size 1152x648 with 1 Axes>"
      ]
     },
     "metadata": {
      "needs_background": "light"
     },
     "output_type": "display_data"
    }
   ],
   "source": [
    "plt.figure(figsize=(16,9))\n",
    "plt.bar(word_counts.index, word_counts)"
   ]
  },
  {
   "cell_type": "markdown",
   "metadata": {},
   "source": [
    "English continues to be quite over weight at 3,000,000 characters relative to the other datasets at around 700,000."
   ]
  },
  {
   "cell_type": "code",
   "execution_count": 36,
   "metadata": {},
   "outputs": [
    {
     "data": {
      "text/plain": [
       "af     1333795\n",
       "en     3178123\n",
       "nr      693335\n",
       "nso    1277737\n",
       "ss      698910\n",
       "st      922541\n",
       "tn      652337\n",
       "ts      715758\n",
       "ve      589877\n",
       "xh      953090\n",
       "zu     1278794\n",
       "Name: body, dtype: int64"
      ]
     },
     "execution_count": 36,
     "metadata": {},
     "output_type": "execute_result"
    }
   ],
   "source": [
    "# character counts - beautifully balanced\n",
    "\n",
    "character_counts = documents_df['body'].apply(lambda x: len(list(x))).dot(pd.get_dummies(documents_df['class'])) \n",
    "character_counts"
   ]
  },
  {
   "cell_type": "code",
   "execution_count": 37,
   "metadata": {
    "scrolled": false
   },
   "outputs": [
    {
     "data": {
      "text/plain": [
       "<BarContainer object of 11 artists>"
      ]
     },
     "execution_count": 37,
     "metadata": {},
     "output_type": "execute_result"
    },
    {
     "data": {
      "image/png": "[encoded data removed]",
      "text/plain": [
       "<Figure size 1152x648 with 1 Axes>"
      ]
     },
     "metadata": {
      "needs_background": "light"
     },
     "output_type": "display_data"
    }
   ],
   "source": [
    "plt.figure(figsize=(16,9))\n",
    "plt.bar(character_counts.index, character_counts)"
   ]
  },
  {
   "cell_type": "markdown",
   "metadata": {},
   "source": [
    "## Training and test split\n",
    "\n",
    "- [contents](#contents)"
   ]
  },
  {
   "cell_type": "code",
   "execution_count": 44,
   "metadata": {
    "collapsed": true
   },
   "outputs": [],
   "source": [
    "flat_sentences_df = pd.DataFrame(flat_sentences)\n",
    "\n",
    "flat_corpora, flat_labels = flat_sentences_df['body'], flat_sentences_df['class']"
   ]
  },
  {
   "cell_type": "code",
   "execution_count": 46,
   "metadata": {},
   "outputs": [
    {
     "data": {
      "text/plain": [
       "((40556,), (40556,))"
      ]
     },
     "execution_count": 46,
     "metadata": {},
     "output_type": "execute_result"
    }
   ],
   "source": [
    "flat_corpora.shape, flat_labels.shape"
   ]
  },
  {
   "cell_type": "code",
   "execution_count": 50,
   "metadata": {},
   "outputs": [],
   "source": [
    "corpora_train, corpora_test, labels_train, labels_test = train_test_split(\n",
    "                                                        flat_corpora,\n",
    "                                                        flat_labels,\n",
    "                                                        test_size=0.25,\n",
    "                                                        random_state=123)"
   ]
  },
  {
   "cell_type": "code",
   "execution_count": 51,
   "metadata": {},
   "outputs": [
    {
     "data": {
      "text/plain": [
       "((30417,), (10139,))"
      ]
     },
     "execution_count": 51,
     "metadata": {},
     "output_type": "execute_result"
    }
   ],
   "source": [
    "corpora_train.shape, corpora_test.shape"
   ]
  },
  {
   "cell_type": "code",
   "execution_count": 55,
   "metadata": {},
   "outputs": [],
   "source": [
    "with open(os.path.join(DATA_PATH, 'train_data.pickle'),'wb') as datafile:\n",
    "        pickle.dump((corpora_train, labels_train), datafile)"
   ]
  },
  {
   "cell_type": "code",
   "execution_count": 56,
   "metadata": {},
   "outputs": [],
   "source": [
    "with open(os.path.join(DATA_PATH, 'test_data.pickle'),'wb') as datafile:\n",
    "        pickle.dump((corpora_test, labels_test), datafile)"
   ]
  },
  {
   "cell_type": "code",
   "execution_count": 60,
   "metadata": {},
   "outputs": [],
   "source": [
    "document_matrix, labels, pipeline_instance = prepare_training_data(corpora_train, labels_train)"
   ]
  },
  {
   "cell_type": "code",
   "execution_count": 61,
   "metadata": {},
   "outputs": [
    {
     "data": {
      "text/plain": [
       "((30417, 2692), (30417, 11), Pipeline(memory=None,\n",
       "      steps=[('vect', CountVectorizer(analyzer='char', binary=False, decode_error='strict',\n",
       "         dtype=<class 'numpy.int64'>, encoding='utf-8', input='content',\n",
       "         lowercase=True, max_df=1.0, max_features=None, min_df=1,\n",
       "         ngram_range=(2, 2), preprocessor=None, stop_words=None,\n",
       "         strip_accents=None, token_pattern='(?u)\\\\b\\\\w\\\\w+\\\\b',\n",
       "         tokenizer=None, vocabulary=None)), ('tfidf', TfidfTransformer(norm='l2', smooth_idf=True, sublinear_tf=False, use_idf=True))]))"
      ]
     },
     "execution_count": 61,
     "metadata": {},
     "output_type": "execute_result"
    }
   ],
   "source": [
    "document_matrix.shape, labels.shape, pipeline_instance"
   ]
  },
  {
   "cell_type": "code",
   "execution_count": 62,
   "metadata": {
    "collapsed": true
   },
   "outputs": [],
   "source": [
    "with open(os.path.join(DATA_PATH, 'pipeline_instance.pickle'),'wb') as datafile:\n",
    "        pickle.dump(pipeline_instance, datafile)"
   ]
  },
  {
   "cell_type": "markdown",
   "metadata": {},
   "source": [
    "## Final notes\n",
    "\n",
    "- [contents](#contents)"
   ]
  }
 ],
 "metadata": {
  "kernelspec": {
   "display_name": "Python 3",
   "language": "python",
   "name": "python3"
  },
  "language_info": {
   "codemirror_mode": {
    "name": "ipython",
    "version": 3
   },
   "file_extension": ".py",
   "mimetype": "text/x-python",
   "name": "python",
   "nbconvert_exporter": "python",
   "pygments_lexer": "ipython3",
   "version": "3.6.8"
  }
 },
 "nbformat": 4,
 "nbformat_minor": 2
}
