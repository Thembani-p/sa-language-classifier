{
 "cells": [
  {
   "cell_type": "code",
   "execution_count": 1,
   "metadata": {
    "collapsed": true
   },
   "outputs": [],
   "source": [
    "# resources available at : https://www.sadilar.org/\n",
    "\n",
    "# language   - corpora : Language codes\n",
    "\n",
    "# isiNdebele - nr  : https://repo.sadilar.org/handle/20.500.12185/308\n",
    "# isiXhosa   - xh  : https://repo.sadilar.org/handle/20.500.12185/314\n",
    "# isiZulu    - zu  : https://repo.sadilar.org/handle/20.500.12185/321\n",
    "# sePedi     - nso : https://repo.sadilar.org/handle/20.500.12185/330\n",
    "# seSotho    - st  : https://repo.sadilar.org/handle/20.500.12185/336\n",
    "# seTswana   - tn  : https://repo.sadilar.org/handle/20.500.12185/343\n",
    "# siSwati    - ss  : https://repo.sadilar.org/handle/20.500.12185/348\n",
    "# tshiVenda  - ve  : https://repo.sadilar.org/handle/20.500.12185/357\n",
    "# xiTsonga   - ts  : https://repo.sadilar.org/handle/20.500.12185/364\n",
    "# Afikaans   - af  : https://repo.sadilar.org/handle/20.500.12185/293\n",
    "# English    - en  : https://repo.sadilar.org/handle/20.500.12185/301"
   ]
  },
  {
   "cell_type": "code",
   "execution_count": 2,
   "metadata": {
    "collapsed": true
   },
   "outputs": [],
   "source": [
    "import os\n",
    "import zipfile\n"
   ]
  },
  {
   "cell_type": "markdown",
   "metadata": {},
   "source": [
    "## Preparation"
   ]
  },
  {
   "cell_type": "code",
   "execution_count": 69,
   "metadata": {},
   "outputs": [
    {
     "data": {
      "text/plain": [
       "['af', 'en', 'nr', 'nso', 'ss', 'st', 'tn', 'ts', 've', 'xh', 'zu']"
      ]
     },
     "execution_count": 69,
     "metadata": {},
     "output_type": "execute_result"
    }
   ],
   "source": [
    "file_listing = os.listdir('../data/corpora')\n",
    "\n",
    "language_codes = [i.replace(\"corpora.nchlt.\",\"\").replace(\".zip\",\"\") for i in file_listing]\n",
    "language_codes"
   ]
  },
  {
   "cell_type": "code",
   "execution_count": 82,
   "metadata": {},
   "outputs": [
    {
     "data": {
      "text/plain": [
       "'en/1.Corpus/CORP.NCHLT.eng.CLEAN.1.0.0.txt'"
      ]
     },
     "execution_count": 82,
     "metadata": {},
     "output_type": "execute_result"
    }
   ],
   "source": [
    "filename.format(code)"
   ]
  },
  {
   "cell_type": "code",
   "execution_count": 88,
   "metadata": {},
   "outputs": [
    {
     "data": {
      "text/plain": [
       "('corpora.nchlt.af.zip',\n",
       " 'af',\n",
       " 'af',\n",
       " 'af/1.Corpus/CORP.NCHLT.{}.CLEAN.1.0.0.txt')"
      ]
     },
     "execution_count": 88,
     "metadata": {},
     "output_type": "execute_result"
    }
   ],
   "source": [
    "zipped, language_codes[idx], code, zfilename"
   ]
  },
  {
   "cell_type": "code",
   "execution_count": 95,
   "metadata": {},
   "outputs": [],
   "source": [
    "prepped_documents = []\n",
    "\n",
    "for idx, zipped in enumerate(file_listing):\n",
    "    if language_codes[idx] == 'en':\n",
    "        zfilename = '{}/1.Corpus/CORP.NCHLT.{}.CLEAN.1.0.0.txt'.format(language_codes[idx],\"{}\")\n",
    "    else:\n",
    "        zfilename = '{}/2.Corpora/CORP.NCHLT.{}.CLEAN.2.0.txt'.format(language_codes[idx],\"{}\")\n",
    "    \n",
    "    \n",
    "    with zipfile.ZipFile('../data/corpora/{}'.format(zipped)) as z:\n",
    "        language_codes[idx] if True else 'no'\n",
    "        code = 'eng' if language_codes[idx] == 'en' else language_codes[idx]\n",
    "        \n",
    "        with z.open(zfilename.format(code)) as f:\n",
    "            lines = f.readlines()\n",
    "\n",
    "    text = \"\".join([str(i) for i in lines[::11]])\n",
    "    documents = text.replace(\"\\\\n\",\"\").split(\"<fn>\")\n",
    "    \n",
    "    for document in documents:\n",
    "        document_split = document.split(\"</fn>\")\n",
    "        if len(document_split) > 1:\n",
    "            title, body = document_split\n",
    "            prepped_documents.append({'title': title, 'body': body, 'class': language_codes[idx]})"
   ]
  },
  {
   "cell_type": "markdown",
   "metadata": {},
   "source": [
    "## A quick look at the data"
   ]
  },
  {
   "cell_type": "code",
   "execution_count": 97,
   "metadata": {
    "collapsed": true
   },
   "outputs": [],
   "source": [
    "import pandas as pd"
   ]
  },
  {
   "cell_type": "code",
   "execution_count": 105,
   "metadata": {
    "collapsed": true
   },
   "outputs": [],
   "source": [
    "documents_df = pd.DataFrame(prepped_documents)\n",
    "documents_df.to_csv('../data/training_data.csv')"
   ]
  },
  {
   "cell_type": "code",
   "execution_count": 125,
   "metadata": {},
   "outputs": [
    {
     "data": {
      "text/html": [
       "<div>\n",
       "<style scoped>\n",
       "    .dataframe tbody tr th:only-of-type {\n",
       "        vertical-align: middle;\n",
       "    }\n",
       "\n",
       "    .dataframe tbody tr th {\n",
       "        vertical-align: top;\n",
       "    }\n",
       "\n",
       "    .dataframe thead th {\n",
       "        text-align: right;\n",
       "    }\n",
       "</style>\n",
       "<table border=\"1\" class=\"dataframe\">\n",
       "  <thead>\n",
       "    <tr style=\"text-align: right;\">\n",
       "      <th></th>\n",
       "      <th>body</th>\n",
       "      <th>class</th>\n",
       "      <th>title</th>\n",
       "    </tr>\n",
       "  </thead>\n",
       "  <tbody>\n",
       "    <tr>\n",
       "      <th>0</th>\n",
       "      <td>\\r'b\"Werkende aansoekers: Dui asseblief jou ba...</td>\n",
       "      <td>af</td>\n",
       "      <td>(1124200875659 AM) GEMS_APP(AFRIKAANS).txt</td>\n",
       "    </tr>\n",
       "    <tr>\n",
       "      <th>1</th>\n",
       "      <td>\\r'b'Uitstekende gesondheidsorgvoordele teen b...</td>\n",
       "      <td>af</td>\n",
       "      <td>(3102010124331 PM) FINAL MB AFRIKAANS.txt</td>\n",
       "    </tr>\n",
       "    <tr>\n",
       "      <th>2</th>\n",
       "      <td>\\r'b'Uitstekende gesondheidsorgvoordele teen b...</td>\n",
       "      <td>af</td>\n",
       "      <td>(3172010120044 PM) FINAL MB AFRIKAANS.txt</td>\n",
       "    </tr>\n",
       "    <tr>\n",
       "      <th>3</th>\n",
       "      <td>\\r'b'Om alle staatsdienswerknemers van gelyke ...</td>\n",
       "      <td>af</td>\n",
       "      <td>(32201090225 AM) REO Afrikaans met benefit sch...</td>\n",
       "    </tr>\n",
       "    <tr>\n",
       "      <th>4</th>\n",
       "      <td>\\r'b\"Sou u na 1 Januarie van 'n jaar aansluit,...</td>\n",
       "      <td>af</td>\n",
       "      <td>(42200942018 PM) NIMAS_Appli. FormAfr_PD7023.txt</td>\n",
       "    </tr>\n",
       "  </tbody>\n",
       "</table>\n",
       "</div>"
      ],
      "text/plain": [
       "                                                body class  \\\n",
       "0  \\r'b\"Werkende aansoekers: Dui asseblief jou ba...    af   \n",
       "1  \\r'b'Uitstekende gesondheidsorgvoordele teen b...    af   \n",
       "2  \\r'b'Uitstekende gesondheidsorgvoordele teen b...    af   \n",
       "3  \\r'b'Om alle staatsdienswerknemers van gelyke ...    af   \n",
       "4  \\r'b\"Sou u na 1 Januarie van 'n jaar aansluit,...    af   \n",
       "\n",
       "                                               title  \n",
       "0         (1124200875659 AM) GEMS_APP(AFRIKAANS).txt  \n",
       "1          (3102010124331 PM) FINAL MB AFRIKAANS.txt  \n",
       "2          (3172010120044 PM) FINAL MB AFRIKAANS.txt  \n",
       "3  (32201090225 AM) REO Afrikaans met benefit sch...  \n",
       "4   (42200942018 PM) NIMAS_Appli. FormAfr_PD7023.txt  "
      ]
     },
     "execution_count": 125,
     "metadata": {},
     "output_type": "execute_result"
    }
   ],
   "source": [
    "documents_df.head()"
   ]
  },
  {
   "cell_type": "code",
   "execution_count": 107,
   "metadata": {},
   "outputs": [
    {
     "data": {
      "text/plain": [
       "af     436\n",
       "en     355\n",
       "xh     240\n",
       "st      98\n",
       "nr      93\n",
       "tn      90\n",
       "zu      81\n",
       "nso     72\n",
       "ss      69\n",
       "ve      63\n",
       "ts      53\n",
       "Name: class, dtype: int64"
      ]
     },
     "execution_count": 107,
     "metadata": {},
     "output_type": "execute_result"
    }
   ],
   "source": [
    "# document counts\n",
    "\n",
    "documents_df['class'].value_counts()"
   ]
  },
  {
   "cell_type": "code",
   "execution_count": 126,
   "metadata": {},
   "outputs": [
    {
     "data": {
      "text/plain": [
       "af     4645\n",
       "en     9736\n",
       "nr     2520\n",
       "nso    3591\n",
       "ss     3148\n",
       "st     3189\n",
       "tn     2394\n",
       "ts     2635\n",
       "ve     2053\n",
       "xh     3274\n",
       "zu     3371\n",
       "Name: body, dtype: int64"
      ]
     },
     "execution_count": 126,
     "metadata": {},
     "output_type": "execute_result"
    }
   ],
   "source": [
    "# sentence counts - beautifully balanced\n",
    "\n",
    "documents_df['body'].apply(lambda x: len(x.split(\". \"))).dot(pd.get_dummies(documents_df['class'])) "
   ]
  },
  {
   "cell_type": "code",
   "execution_count": 139,
   "metadata": {},
   "outputs": [],
   "source": [
    "sentences = documents_df.apply(lambda x: [{'class': x['class'], 'body': b} for b in x['body'].split(\". \")], \n",
    "                              axis=1).values.tolist()"
   ]
  },
  {
   "cell_type": "code",
   "execution_count": 145,
   "metadata": {
    "scrolled": false
   },
   "outputs": [
    {
     "data": {
      "text/plain": [
       "40556"
      ]
     },
     "execution_count": 145,
     "metadata": {},
     "output_type": "execute_result"
    }
   ],
   "source": [
    "sum([len(i) for i in sentences])"
   ]
  },
  {
   "cell_type": "code",
   "execution_count": 150,
   "metadata": {},
   "outputs": [],
   "source": [
    "import json\n",
    "with open('../data/sentences.json','w') as datafile:\n",
    "    json.dump(sentences, datafile)"
   ]
  },
  {
   "cell_type": "code",
   "execution_count": 127,
   "metadata": {},
   "outputs": [
    {
     "data": {
      "text/plain": [
       "af     194856\n",
       "en     487449\n",
       "nr      67973\n",
       "nso    187641\n",
       "ss      69755\n",
       "st     159820\n",
       "tn     110827\n",
       "ts     115381\n",
       "ve      86720\n",
       "xh      98303\n",
       "zu     128647\n",
       "Name: body, dtype: int64"
      ]
     },
     "execution_count": 127,
     "metadata": {},
     "output_type": "execute_result"
    }
   ],
   "source": [
    "# word counts\n",
    "\n",
    "documents_df['body'].apply(lambda x: len(x.split())).dot(pd.get_dummies(documents_df['class'])) "
   ]
  },
  {
   "cell_type": "code",
   "execution_count": 124,
   "metadata": {},
   "outputs": [
    {
     "data": {
      "text/plain": [
       "af     1333795\n",
       "en     3178123\n",
       "nr      693335\n",
       "nso    1277737\n",
       "ss      698910\n",
       "st      922541\n",
       "tn      652337\n",
       "ts      715758\n",
       "ve      589877\n",
       "xh      953090\n",
       "zu     1278794\n",
       "Name: body, dtype: int64"
      ]
     },
     "execution_count": 124,
     "metadata": {},
     "output_type": "execute_result"
    }
   ],
   "source": [
    "# character counts - beautifully balanced\n",
    "\n",
    "documents_df['body'].apply(lambda x: len(list(x))).dot(pd.get_dummies(documents_df['class'])) "
   ]
  },
  {
   "cell_type": "code",
   "execution_count": 121,
   "metadata": {},
   "outputs": [
    {
     "data": {
      "text/plain": [
       "['S',\n",
       " 'o',\n",
       " 'u',\n",
       " ' ',\n",
       " 'u',\n",
       " ' ',\n",
       " 'n',\n",
       " 'a',\n",
       " ' ',\n",
       " '1',\n",
       " ' ',\n",
       " 'J',\n",
       " 'a',\n",
       " 'n',\n",
       " 'u',\n",
       " 'a',\n",
       " 'r',\n",
       " 'i',\n",
       " 'e',\n",
       " ' ',\n",
       " 'v',\n",
       " 'a',\n",
       " 'n',\n",
       " ' ',\n",
       " \"'\",\n",
       " 'n',\n",
       " ' ',\n",
       " 'j',\n",
       " 'a',\n",
       " 'a',\n",
       " 'r',\n",
       " ' ',\n",
       " 'a',\n",
       " 'a',\n",
       " 'n',\n",
       " 's',\n",
       " 'l',\n",
       " 'u',\n",
       " 'i',\n",
       " 't',\n",
       " ',']"
      ]
     },
     "execution_count": 121,
     "metadata": {},
     "output_type": "execute_result"
    }
   ],
   "source": [
    "list(\"\"\"\\r'b\"Sou u na 1 Januarie van 'n jaar aansluit,\"\"\".replace(\"\"\"\\r\\'b\\\"\"\"\",\"\"))"
   ]
  }
 ],
 "metadata": {
  "kernelspec": {
   "display_name": "sa_lang",
   "language": "python",
   "name": "sa_lang"
  },
  "language_info": {
   "codemirror_mode": {
    "name": "ipython",
    "version": 3
   },
   "file_extension": ".py",
   "mimetype": "text/x-python",
   "name": "python",
   "nbconvert_exporter": "python",
   "pygments_lexer": "ipython3",
   "version": "3.5.2"
  }
 },
 "nbformat": 4,
 "nbformat_minor": 2
}
