{
 "cells": [
  {
   "cell_type": "markdown",
   "metadata": {},
   "source": [
    "# A simple feed forward model\n",
    "\n",
    "```\n",
    "\n",
    "\n",
    "\n",
    "\n",
    "```\n",
    "#### contents\n",
    "- [Read data](#Read-data)\n",
    "- [Prepare data](#Prepare-data)\n",
    "- [Create and train models](#Create-and-train-models)\n",
    "- [Final note](#Final-note)"
   ]
  },
  {
   "cell_type": "code",
   "execution_count": 1,
   "metadata": {
    "collapsed": true
   },
   "outputs": [],
   "source": [
    "import os\n",
    "import sys\n",
    "import json\n",
    "import pickle\n",
    "\n",
    "import numpy as np\n",
    "import pandas as pd\n",
    "\n",
    "from sklearn.model_selection import train_test_split, GridSearchCV"
   ]
  },
  {
   "cell_type": "code",
   "execution_count": 2,
   "metadata": {
    "collapsed": true
   },
   "outputs": [],
   "source": [
    "# GPU = False"
   ]
  },
  {
   "cell_type": "code",
   "execution_count": 3,
   "metadata": {},
   "outputs": [
    {
     "name": "stderr",
     "output_type": "stream",
     "text": [
      "Using TensorFlow backend.\n"
     ]
    }
   ],
   "source": [
    "# import tensorflow as tf\n",
    "# from keras import backend as K\n",
    "\n",
    "# num_cores = 10\n",
    "\n",
    "# if GPU:\n",
    "#     num_GPU = 1\n",
    "#     num_CPU = 1\n",
    "# else:\n",
    "#     num_CPU = 1\n",
    "#     num_GPU = 0\n",
    "\n",
    "# config = tf.ConfigProto(intra_op_parallelism_threads=num_cores,\n",
    "#                         inter_op_parallelism_threads=num_cores, \n",
    "#                         allow_soft_placement=True,\n",
    "#                         device_count = {'CPU' : num_CPU,\n",
    "#                                         'GPU' : num_GPU}\n",
    "#                        )\n",
    "\n",
    "# session = tf.Session(config=config)\n",
    "# K.set_session(session)"
   ]
  },
  {
   "cell_type": "code",
   "execution_count": 2,
   "metadata": {},
   "outputs": [
    {
     "name": "stderr",
     "output_type": "stream",
     "text": [
      "Using TensorFlow backend.\n"
     ]
    }
   ],
   "source": [
    "MODULES_PATH = '../modules'\n",
    "MODELS_PATH = '../models'\n",
    "DATA_PATH = '../data'\n",
    "\n",
    "sys.path.append(MODULES_PATH)\n",
    "from data import flatten_data, prepare_training_data, prepare_test_data, \\\n",
    "                    raise_one_level\n",
    "from models import parameter_ffn_seq"
   ]
  },
  {
   "cell_type": "code",
   "execution_count": 3,
   "metadata": {
    "collapsed": true
   },
   "outputs": [],
   "source": [
    "from keras.wrappers.scikit_learn import KerasClassifier\n",
    "from sklearn.linear_model import LogisticRegression\n",
    "from sklearn.ensemble import RandomForestClassifier\n",
    "from sklearn.svm import SVC\n",
    "from xgboost import XGBClassifier"
   ]
  },
  {
   "cell_type": "code",
   "execution_count": 4,
   "metadata": {},
   "outputs": [
    {
     "name": "stdout",
     "output_type": "stream",
     "text": [
      "[name: \"/device:CPU:0\"\n",
      "device_type: \"CPU\"\n",
      "memory_limit: 268435456\n",
      "locality {\n",
      "}\n",
      "incarnation: 16924982804729173235\n",
      "]\n"
     ]
    }
   ],
   "source": [
    "# to run the grid search in parallel this should just show the CPU\n",
    "from tensorflow.python.client import device_lib\n",
    "print(device_lib.list_local_devices())"
   ]
  },
  {
   "cell_type": "markdown",
   "metadata": {},
   "source": [
    "## Read data\n",
    "\n",
    "- [contents](#contents)"
   ]
  },
  {
   "cell_type": "code",
   "execution_count": 5,
   "metadata": {
    "collapsed": true
   },
   "outputs": [],
   "source": [
    "with open(os.path.join(DATA_PATH, 'train_data.pickle'),'rb') as datafile:\n",
    "        corpora_train, labels_train = pickle.load(datafile)"
   ]
  },
  {
   "cell_type": "markdown",
   "metadata": {},
   "source": [
    "## Prepare data\n",
    "\n",
    "- [contents](#contents)"
   ]
  },
  {
   "cell_type": "code",
   "execution_count": 6,
   "metadata": {
    "collapsed": true
   },
   "outputs": [],
   "source": [
    "with open(os.path.join(DATA_PATH, 'pipeline_instance.pickle'),'rb') as datafile:\n",
    "        pipeline_instance = pickle.load(datafile)"
   ]
  },
  {
   "cell_type": "code",
   "execution_count": 7,
   "metadata": {},
   "outputs": [
    {
     "data": {
      "text/plain": [
       "((7604, 2692), (7604, 11))"
      ]
     },
     "execution_count": 7,
     "metadata": {},
     "output_type": "execute_result"
    }
   ],
   "source": [
    "X_train, y_train = prepare_test_data(corpora_train, labels_train, pipeline_instance)\n",
    "\n",
    "X_train_grid, X_test_grid, y_train_grid, y_test_grid = train_test_split(X_train,\n",
    "                                                                        y_train,\n",
    "                                                                        test_size=0.75,\n",
    "                                                                        random_state=123)\n",
    "\n",
    "del X_train, y_train, corpora_train, labels_train\n",
    "\n",
    "del X_test_grid, y_test_grid\n",
    "\n",
    "X_train_grid.shape, y_train_grid.shape"
   ]
  },
  {
   "cell_type": "code",
   "execution_count": 8,
   "metadata": {
    "collapsed": true
   },
   "outputs": [],
   "source": [
    "input_shape = X_train_grid.shape[1]\n",
    "classes     = y_train_grid.shape[1]"
   ]
  },
  {
   "cell_type": "markdown",
   "metadata": {},
   "source": [
    "## Create and train models\n",
    "\n",
    "- [contents](#contents)"
   ]
  },
  {
   "cell_type": "code",
   "execution_count": 9,
   "metadata": {
    "collapsed": true
   },
   "outputs": [],
   "source": [
    "def hyperparameters(x, y, create_model, params, cv=3, n_jobs=3):\n",
    "    # check if the keys are in globals\n",
    "    key_check = all([i in list(globals().keys()) for i in list(params.keys())])\n",
    "    \n",
    "    assert key_check, 'Some of your keys are missing from `globals()`.'\n",
    "    # run models and store results\n",
    "    result = {}\n",
    "\n",
    "    for model in params:  \n",
    "        print('Model: \\t {} \\n'.format(model))\n",
    "        if 'keras' in model.lower():\n",
    "            estimator = globals()[model](build_fn=create_model, \n",
    "                                                 epochs=10, \n",
    "                                                 batch_size=1024, \n",
    "                                                 verbose=2)\n",
    "        else:\n",
    "            estimator = globals()[model]()\n",
    "            \n",
    "        gscv = GridSearchCV(estimator,\n",
    "                             params[model],\n",
    "                             cv=cv,\n",
    "                             verbose=1,\n",
    "                             n_jobs=n_jobs,\n",
    "                             refit=False\n",
    "                           )\n",
    "    \n",
    "        if 'keras' in model.lower():\n",
    "            gscv.fit(x,y)\n",
    "        else:\n",
    "            gscv.fit(x.values,y.apply(lambda x: x.argmax(), axis=1))\n",
    "\n",
    "        result[model] = gscv\n",
    "\n",
    "    return result"
   ]
  },
  {
   "cell_type": "code",
   "execution_count": 14,
   "metadata": {
    "collapsed": true
   },
   "outputs": [],
   "source": [
    "params_test = {'KerasClassifier':\n",
    "          {\n",
    "              'input_shape': [input_shape],\n",
    "              'classes': [classes],\n",
    "              'layers': [[32]],\n",
    "              'activations': [['relu']],\n",
    "              'dropout': [[0.15]]\n",
    "          },\n",
    "#           'SVC':\n",
    "#           {\n",
    "#               'kernel': ['linear'],\n",
    "#               'degree': [2],\n",
    "#               'gamma': [0.99],\n",
    "#               'tol': [0.1],\n",
    "#               'class_weight': [None],\n",
    "#               'random_state': [123]\n",
    "              \n",
    "#           }, This takes quite a while\n",
    "          'XGBClassifier':\n",
    "          {\n",
    "              'learning_rate': [1], \n",
    "              'n_estimators':[10], \n",
    "              'max_depth':[2],\n",
    "              'min_child_weight':[3], \n",
    "              'gamma':[1], \n",
    "              'subsample':[0.2], \n",
    "              'colsample_bytree':[1.0],\n",
    "              'random_state': [123]\n",
    "          },\n",
    "          'RandomForestClassifier':\n",
    "          {\n",
    "              'n_estimators': [10],\n",
    "              'max_depth': [2],\n",
    "              'random_state': [123],\n",
    "              'class_weight':[None]\n",
    "          }\n",
    "         }"
   ]
  },
  {
   "cell_type": "code",
   "execution_count": 10,
   "metadata": {
    "collapsed": true
   },
   "outputs": [],
   "source": [
    "params = {'KerasClassifier':\n",
    "          {\n",
    "              'input_shape': [input_shape],\n",
    "              'classes': [classes],\n",
    "              'layers': [[32], [64], [128], [256], [512], [1024], [2048],\n",
    "                         [32, 32], [64, 64], [128, 128], [256, 256], [512, 512], [1024, 1024], [2048, 2048],\n",
    "                        [128, 32], [128, 64], [256, 128], [512, 256], [1024, 512]],\n",
    "              'activations': [['relu']],\n",
    "              'dropout': [[0.15]]\n",
    "          },\n",
    "#           'SVC':\n",
    "#           {\n",
    "#               'kernel': ['linear', 'poly', 'rbf', 'sigmoid'],\n",
    "#               'degree': [2,3,5],\n",
    "#               'gamma': [0.001, 0.1, 0.5, 0.99],\n",
    "#               'tol': [0.1, 0.001,0.0001],\n",
    "#               'class_weight': ['balanced', None],\n",
    "#               'random_state': [123]\n",
    "#           },\n",
    "          'XGBClassifier':\n",
    "          {\n",
    "              'learning_rate': [0.1, 0.001], \n",
    "              'n_estimators':[50], \n",
    "              'max_depth':[5],\n",
    "#               'min_child_weight':[3,5], \n",
    "              'gamma':[0.2, 0.1], \n",
    "              'subsample':[0.6], \n",
    "              'colsample_bytree':[1.0],\n",
    "              'random_state': [123]\n",
    "          },\n",
    "          'RandomForestClassifier':\n",
    "          {\n",
    "              'n_estimators': [500],\n",
    "              'max_depth': [2, 5, 10],\n",
    "              'random_state': [123],\n",
    "              'class_weight':['balanced', 'balanced_subsample', None]\n",
    "          }\n",
    "         }"
   ]
  },
  {
   "cell_type": "code",
   "execution_count": 11,
   "metadata": {
    "collapsed": true
   },
   "outputs": [],
   "source": [
    "test = False # set to True for a test run of the grid search"
   ]
  },
  {
   "cell_type": "code",
   "execution_count": 12,
   "metadata": {
    "scrolled": false
   },
   "outputs": [
    {
     "name": "stdout",
     "output_type": "stream",
     "text": [
      "Model: \t KerasClassifier \n",
      "\n",
      "Fitting 3 folds for each of 19 candidates, totalling 57 fits\n"
     ]
    },
    {
     "name": "stderr",
     "output_type": "stream",
     "text": [
      "[Parallel(n_jobs=10)]: Using backend LokyBackend with 10 concurrent workers.\n",
      "[Parallel(n_jobs=10)]: Done  30 tasks      | elapsed:  1.3min\n",
      "[Parallel(n_jobs=10)]: Done  57 out of  57 | elapsed:  3.6min finished\n",
      "/mnt/c/Users/themb/Documents/projects/sa-language-classifier/sa_lang_env/lib/python3.6/site-packages/ipykernel_launcher.py:30: FutureWarning: 'argmax' is deprecated, use 'idxmax' instead. The behavior of 'argmax'\n",
      "will be corrected to return the positional maximum in the future.\n",
      "Use 'series.values.argmax' to get the position of the maximum now.\n"
     ]
    },
    {
     "name": "stdout",
     "output_type": "stream",
     "text": [
      "Model: \t XGBClassifier \n",
      "\n",
      "Fitting 3 folds for each of 4 candidates, totalling 12 fits\n"
     ]
    },
    {
     "name": "stderr",
     "output_type": "stream",
     "text": [
      "[Parallel(n_jobs=10)]: Using backend LokyBackend with 10 concurrent workers.\n",
      "[Parallel(n_jobs=10)]: Done   6 out of  12 | elapsed:  6.5min remaining:  6.5min\n",
      "[Parallel(n_jobs=10)]: Done  12 out of  12 | elapsed: 10.2min finished\n",
      "/mnt/c/Users/themb/Documents/projects/sa-language-classifier/sa_lang_env/lib/python3.6/site-packages/ipykernel_launcher.py:30: FutureWarning: 'argmax' is deprecated, use 'idxmax' instead. The behavior of 'argmax'\n",
      "will be corrected to return the positional maximum in the future.\n",
      "Use 'series.values.argmax' to get the position of the maximum now.\n"
     ]
    },
    {
     "name": "stdout",
     "output_type": "stream",
     "text": [
      "Model: \t RandomForestClassifier \n",
      "\n",
      "Fitting 3 folds for each of 9 candidates, totalling 27 fits\n"
     ]
    },
    {
     "name": "stderr",
     "output_type": "stream",
     "text": [
      "[Parallel(n_jobs=10)]: Using backend LokyBackend with 10 concurrent workers.\n",
      "[Parallel(n_jobs=10)]: Done  27 out of  27 | elapsed:   45.2s finished\n"
     ]
    }
   ],
   "source": [
    "if test:\n",
    "    grid_searches = hyperparameters(X_train_grid, y_train_grid, parameter_ffn_seq, params_test, cv=3, n_jobs=10)\n",
    "else:\n",
    "    grid_searches = hyperparameters(X_train_grid, y_train_grid, parameter_ffn_seq, params, cv=3, n_jobs=10)"
   ]
  },
  {
   "cell_type": "code",
   "execution_count": 13,
   "metadata": {},
   "outputs": [
    {
     "name": "stderr",
     "output_type": "stream",
     "text": [
      "/mnt/c/Users/themb/Documents/projects/sa-language-classifier/sa_lang_env/lib/python3.6/site-packages/sklearn/utils/deprecation.py:125: FutureWarning: You are accessing a training score ('split0_train_score'), which will not be available by default any more in 0.21. If you need training scores, please set return_train_score=True\n",
      "  warnings.warn(*warn_args, **warn_kwargs)\n",
      "/mnt/c/Users/themb/Documents/projects/sa-language-classifier/sa_lang_env/lib/python3.6/site-packages/sklearn/utils/deprecation.py:125: FutureWarning: You are accessing a training score ('split1_train_score'), which will not be available by default any more in 0.21. If you need training scores, please set return_train_score=True\n",
      "  warnings.warn(*warn_args, **warn_kwargs)\n",
      "/mnt/c/Users/themb/Documents/projects/sa-language-classifier/sa_lang_env/lib/python3.6/site-packages/sklearn/utils/deprecation.py:125: FutureWarning: You are accessing a training score ('split2_train_score'), which will not be available by default any more in 0.21. If you need training scores, please set return_train_score=True\n",
      "  warnings.warn(*warn_args, **warn_kwargs)\n",
      "/mnt/c/Users/themb/Documents/projects/sa-language-classifier/sa_lang_env/lib/python3.6/site-packages/sklearn/utils/deprecation.py:125: FutureWarning: You are accessing a training score ('mean_train_score'), which will not be available by default any more in 0.21. If you need training scores, please set return_train_score=True\n",
      "  warnings.warn(*warn_args, **warn_kwargs)\n",
      "/mnt/c/Users/themb/Documents/projects/sa-language-classifier/sa_lang_env/lib/python3.6/site-packages/sklearn/utils/deprecation.py:125: FutureWarning: You are accessing a training score ('std_train_score'), which will not be available by default any more in 0.21. If you need training scores, please set return_train_score=True\n",
      "  warnings.warn(*warn_args, **warn_kwargs)\n",
      "/mnt/c/Users/themb/Documents/projects/sa-language-classifier/sa_lang_env/lib/python3.6/site-packages/pandas/core/frame.py:6211: FutureWarning: Sorting because non-concatenation axis is not aligned. A future version\n",
      "of pandas will change to not sort by default.\n",
      "\n",
      "To accept the future behavior, pass 'sort=False'.\n",
      "\n",
      "To retain the current behavior and silence the warning, pass 'sort=True'.\n",
      "\n",
      "  sort=sort)\n"
     ]
    },
    {
     "data": {
      "text/html": [
       "<div>\n",
       "<style scoped>\n",
       "    .dataframe tbody tr th:only-of-type {\n",
       "        vertical-align: middle;\n",
       "    }\n",
       "\n",
       "    .dataframe tbody tr th {\n",
       "        vertical-align: top;\n",
       "    }\n",
       "\n",
       "    .dataframe thead th {\n",
       "        text-align: right;\n",
       "    }\n",
       "</style>\n",
       "<table border=\"1\" class=\"dataframe\">\n",
       "  <thead>\n",
       "    <tr style=\"text-align: right;\">\n",
       "      <th></th>\n",
       "      <th>mean_fit_time</th>\n",
       "      <th>mean_score_time</th>\n",
       "      <th>mean_test_score</th>\n",
       "      <th>mean_train_score</th>\n",
       "      <th>model</th>\n",
       "      <th>param_activations</th>\n",
       "      <th>param_class_weight</th>\n",
       "      <th>param_classes</th>\n",
       "      <th>param_colsample_bytree</th>\n",
       "      <th>param_dropout</th>\n",
       "      <th>...</th>\n",
       "      <th>split0_test_score</th>\n",
       "      <th>split0_train_score</th>\n",
       "      <th>split1_test_score</th>\n",
       "      <th>split1_train_score</th>\n",
       "      <th>split2_test_score</th>\n",
       "      <th>split2_train_score</th>\n",
       "      <th>std_fit_time</th>\n",
       "      <th>std_score_time</th>\n",
       "      <th>std_test_score</th>\n",
       "      <th>std_train_score</th>\n",
       "    </tr>\n",
       "  </thead>\n",
       "  <tbody>\n",
       "    <tr>\n",
       "      <th>13</th>\n",
       "      <td>126.126382</td>\n",
       "      <td>1.260755</td>\n",
       "      <td>0.890452</td>\n",
       "      <td>0.951210</td>\n",
       "      <td>KerasClassifier</td>\n",
       "      <td>[relu]</td>\n",
       "      <td>NaN</td>\n",
       "      <td>11</td>\n",
       "      <td>NaN</td>\n",
       "      <td>[0.15]</td>\n",
       "      <td>...</td>\n",
       "      <td>0.896252</td>\n",
       "      <td>0.949497</td>\n",
       "      <td>0.879290</td>\n",
       "      <td>0.951272</td>\n",
       "      <td>0.895817</td>\n",
       "      <td>0.952860</td>\n",
       "      <td>3.785761</td>\n",
       "      <td>0.115447</td>\n",
       "      <td>0.007896</td>\n",
       "      <td>0.001374</td>\n",
       "    </tr>\n",
       "    <tr>\n",
       "      <th>0</th>\n",
       "      <td>386.376796</td>\n",
       "      <td>0.500339</td>\n",
       "      <td>0.881641</td>\n",
       "      <td>0.946870</td>\n",
       "      <td>XGBClassifier</td>\n",
       "      <td>NaN</td>\n",
       "      <td>NaN</td>\n",
       "      <td>NaN</td>\n",
       "      <td>1</td>\n",
       "      <td>NaN</td>\n",
       "      <td>...</td>\n",
       "      <td>0.885692</td>\n",
       "      <td>0.946319</td>\n",
       "      <td>0.873767</td>\n",
       "      <td>0.949300</td>\n",
       "      <td>0.885466</td>\n",
       "      <td>0.944992</td>\n",
       "      <td>0.582246</td>\n",
       "      <td>0.026335</td>\n",
       "      <td>0.005569</td>\n",
       "      <td>0.001801</td>\n",
       "    </tr>\n",
       "    <tr>\n",
       "      <th>5</th>\n",
       "      <td>15.009525</td>\n",
       "      <td>1.369089</td>\n",
       "      <td>0.885981</td>\n",
       "      <td>0.926289</td>\n",
       "      <td>RandomForestClassifier</td>\n",
       "      <td>NaN</td>\n",
       "      <td>balanced_subsample</td>\n",
       "      <td>NaN</td>\n",
       "      <td>NaN</td>\n",
       "      <td>NaN</td>\n",
       "      <td>...</td>\n",
       "      <td>0.892787</td>\n",
       "      <td>0.926584</td>\n",
       "      <td>0.874951</td>\n",
       "      <td>0.928388</td>\n",
       "      <td>0.890205</td>\n",
       "      <td>0.923896</td>\n",
       "      <td>0.158739</td>\n",
       "      <td>0.170333</td>\n",
       "      <td>0.007871</td>\n",
       "      <td>0.001846</td>\n",
       "    </tr>\n",
       "  </tbody>\n",
       "</table>\n",
       "<p>3 rows × 30 columns</p>\n",
       "</div>"
      ],
      "text/plain": [
       "    mean_fit_time  mean_score_time  mean_test_score  mean_train_score  \\\n",
       "13     126.126382         1.260755         0.890452          0.951210   \n",
       "0      386.376796         0.500339         0.881641          0.946870   \n",
       "5       15.009525         1.369089         0.885981          0.926289   \n",
       "\n",
       "                     model param_activations  param_class_weight  \\\n",
       "13         KerasClassifier            [relu]                 NaN   \n",
       "0            XGBClassifier               NaN                 NaN   \n",
       "5   RandomForestClassifier               NaN  balanced_subsample   \n",
       "\n",
       "   param_classes param_colsample_bytree param_dropout       ...         \\\n",
       "13            11                    NaN        [0.15]       ...          \n",
       "0            NaN                      1           NaN       ...          \n",
       "5            NaN                    NaN           NaN       ...          \n",
       "\n",
       "   split0_test_score split0_train_score split1_test_score split1_train_score  \\\n",
       "13          0.896252           0.949497          0.879290           0.951272   \n",
       "0           0.885692           0.946319          0.873767           0.949300   \n",
       "5           0.892787           0.926584          0.874951           0.928388   \n",
       "\n",
       "   split2_test_score split2_train_score std_fit_time std_score_time  \\\n",
       "13          0.895817           0.952860     3.785761       0.115447   \n",
       "0           0.885466           0.944992     0.582246       0.026335   \n",
       "5           0.890205           0.923896     0.158739       0.170333   \n",
       "\n",
       "   std_test_score  std_train_score  \n",
       "13       0.007896         0.001374  \n",
       "0        0.005569         0.001801  \n",
       "5        0.007871         0.001846  \n",
       "\n",
       "[3 rows x 30 columns]"
      ]
     },
     "execution_count": 13,
     "metadata": {},
     "output_type": "execute_result"
    }
   ],
   "source": [
    "if 'leaderboard' in globals():\n",
    "    del leaderboard\n",
    "    \n",
    "for model, grid in grid_searches.items():\n",
    "    line = pd.DataFrame(grid.cv_results_).sort_values('mean_test_score', ascending=False).head(1)\n",
    "    line['model'] = model\n",
    "    if 'leaderboard' not in globals():\n",
    "        leaderboard = line\n",
    "    else:\n",
    "        leaderboard = leaderboard.append(line)\n",
    "leaderboard"
   ]
  },
  {
   "cell_type": "code",
   "execution_count": 14,
   "metadata": {},
   "outputs": [
    {
     "data": {
      "text/html": [
       "<div>\n",
       "<style scoped>\n",
       "    .dataframe tbody tr th:only-of-type {\n",
       "        vertical-align: middle;\n",
       "    }\n",
       "\n",
       "    .dataframe tbody tr th {\n",
       "        vertical-align: top;\n",
       "    }\n",
       "\n",
       "    .dataframe thead th {\n",
       "        text-align: right;\n",
       "    }\n",
       "</style>\n",
       "<table border=\"1\" class=\"dataframe\">\n",
       "  <thead>\n",
       "    <tr style=\"text-align: right;\">\n",
       "      <th></th>\n",
       "      <th>model</th>\n",
       "      <th>mean_test_score</th>\n",
       "      <th>mean_train_score</th>\n",
       "    </tr>\n",
       "  </thead>\n",
       "  <tbody>\n",
       "    <tr>\n",
       "      <th>13</th>\n",
       "      <td>KerasClassifier</td>\n",
       "      <td>0.890452</td>\n",
       "      <td>0.951210</td>\n",
       "    </tr>\n",
       "    <tr>\n",
       "      <th>0</th>\n",
       "      <td>XGBClassifier</td>\n",
       "      <td>0.881641</td>\n",
       "      <td>0.946870</td>\n",
       "    </tr>\n",
       "    <tr>\n",
       "      <th>5</th>\n",
       "      <td>RandomForestClassifier</td>\n",
       "      <td>0.885981</td>\n",
       "      <td>0.926289</td>\n",
       "    </tr>\n",
       "  </tbody>\n",
       "</table>\n",
       "</div>"
      ],
      "text/plain": [
       "                     model  mean_test_score  mean_train_score\n",
       "13         KerasClassifier         0.890452          0.951210\n",
       "0            XGBClassifier         0.881641          0.946870\n",
       "5   RandomForestClassifier         0.885981          0.926289"
      ]
     },
     "execution_count": 14,
     "metadata": {},
     "output_type": "execute_result"
    }
   ],
   "source": [
    "leaderboard[['model', 'mean_test_score','mean_train_score']]"
   ]
  },
  {
   "cell_type": "code",
   "execution_count": 22,
   "metadata": {},
   "outputs": [
    {
     "data": {
      "text/plain": [
       "{'activations': ['relu'],\n",
       " 'classes': 11,\n",
       " 'dropout': [0.15],\n",
       " 'input_shape': 2692,\n",
       " 'layers': [2048, 2048]}"
      ]
     },
     "execution_count": 22,
     "metadata": {},
     "output_type": "execute_result"
    }
   ],
   "source": [
    "best_params = grid_searches[leaderboard['model'].iloc[0]].best_params_\n",
    "\n",
    "with open(os.path.join(MODELS_PATH, 'best_params.json'), 'w') as datafile:\n",
    "    json.dump(best_params, datafile)\n",
    "\n",
    "best_params"
   ]
  },
  {
   "cell_type": "code",
   "execution_count": 23,
   "metadata": {
    "collapsed": true
   },
   "outputs": [],
   "source": [
    "leaderboard.to_csv(os.path.join(MODELS_PATH, 'leaderboard.csv'))"
   ]
  },
  {
   "cell_type": "code",
   "execution_count": 25,
   "metadata": {},
   "outputs": [],
   "source": [
    "with open(os.path.join(MODELS_PATH, 'grid_searches.pickle'), 'wb') as datafile:\n",
    "    pickle.dump(grid_searches, datafile)"
   ]
  },
  {
   "cell_type": "markdown",
   "metadata": {},
   "source": [
    "## Final note\n",
    "\n",
    "- [contents](#contents)"
   ]
  }
 ],
 "metadata": {
  "kernelspec": {
   "display_name": "Python 3",
   "language": "python",
   "name": "python3"
  },
  "language_info": {
   "codemirror_mode": {
    "name": "ipython",
    "version": 3
   },
   "file_extension": ".py",
   "mimetype": "text/x-python",
   "name": "python",
   "nbconvert_exporter": "python",
   "pygments_lexer": "ipython3",
   "version": "3.6.8"
  }
 },
 "nbformat": 4,
 "nbformat_minor": 2
}
