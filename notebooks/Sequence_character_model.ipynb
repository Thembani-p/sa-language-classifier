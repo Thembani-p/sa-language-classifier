{
 "cells": [
  {
   "cell_type": "markdown",
   "metadata": {},
   "source": [
    "# A simple feed forward model\n",
    "\n",
    "```\n",
    "\n",
    "\n",
    "\n",
    "\n",
    "```\n",
    "- [Read data](#Read-data)\n",
    "- [Prepare data](#Prepare-data)\n",
    "- [Create and train model](#Create-and-train-model)\n",
    "- [Test on unseen data](#Test-on-unseen-data)"
   ]
  },
  {
   "cell_type": "code",
   "execution_count": 18,
   "metadata": {
    "collapsed": true
   },
   "outputs": [],
   "source": [
    "import os\n",
    "import sys\n",
    "import json\n",
    "import pickle\n",
    "\n",
    "import numpy as np\n",
    "import pandas as pd\n",
    "\n",
    "from sklearn.model_selection import train_test_split\n",
    "from keras.utils import to_categorical"
   ]
  },
  {
   "cell_type": "code",
   "execution_count": 2,
   "metadata": {},
   "outputs": [
    {
     "name": "stderr",
     "output_type": "stream",
     "text": [
      "Using TensorFlow backend.\n"
     ]
    }
   ],
   "source": [
    "MODULES_PATH = '../modules'\n",
    "MODELS_PATH = '../models'\n",
    "DATA_PATH = '../data'\n",
    "\n",
    "sys.path.append(MODULES_PATH)\n",
    "from data import flatten_data, prepare_training_data, prepare_test_data, \\\n",
    "                    raise_one_level\n",
    "from models import sequence_model"
   ]
  },
  {
   "cell_type": "markdown",
   "metadata": {},
   "source": [
    "## Read data"
   ]
  },
  {
   "cell_type": "code",
   "execution_count": 3,
   "metadata": {
    "collapsed": true
   },
   "outputs": [],
   "source": [
    "with open(os.path.join(DATA_PATH,'sentences.json'),'r') as datafile:\n",
    "    sentences = json.load(datafile)"
   ]
  },
  {
   "cell_type": "code",
   "execution_count": 4,
   "metadata": {
    "collapsed": true
   },
   "outputs": [],
   "source": [
    "documents = pd.read_csv('../data/training_data.csv')"
   ]
  },
  {
   "cell_type": "markdown",
   "metadata": {},
   "source": [
    "## Prepare data"
   ]
  },
  {
   "cell_type": "code",
   "execution_count": 5,
   "metadata": {
    "collapsed": true
   },
   "outputs": [],
   "source": [
    "sentences_flat = raise_one_level(sentences)\n",
    "sentences_df = pd.DataFrame(sentences_flat)"
   ]
  },
  {
   "cell_type": "code",
   "execution_count": 6,
   "metadata": {
    "collapsed": true
   },
   "outputs": [],
   "source": [
    "corpora_train, corpora_test, labels_train, labels_test = train_test_split(\n",
    "                                                        sentences_df['body'],\n",
    "                                                        sentences_df['class'],\n",
    "                                                        test_size=0.75,\n",
    "                                                        random_state=123)"
   ]
  },
  {
   "cell_type": "code",
   "execution_count": 7,
   "metadata": {},
   "outputs": [],
   "source": [
    "characters = corpora_train.apply(lambda x: list(x)).values.tolist()"
   ]
  },
  {
   "cell_type": "code",
   "execution_count": 8,
   "metadata": {
    "scrolled": true
   },
   "outputs": [
    {
     "name": "stdout",
     "output_type": "stream",
     "text": [
      "3043734\n"
     ]
    }
   ],
   "source": [
    "characters = raise_one_level(characters)\n",
    "print(len(characters))"
   ]
  },
  {
   "cell_type": "code",
   "execution_count": 9,
   "metadata": {},
   "outputs": [
    {
     "name": "stdout",
     "output_type": "stream",
     "text": [
      "94\n"
     ]
    }
   ],
   "source": [
    "num_unique_characters = len(set(characters))\n",
    "print(num_unique_characters)"
   ]
  },
  {
   "cell_type": "code",
   "execution_count": 10,
   "metadata": {},
   "outputs": [],
   "source": [
    "from keras.preprocessing.text import Tokenizer\n",
    "from keras.preprocessing.sequence import pad_sequences"
   ]
  },
  {
   "cell_type": "code",
   "execution_count": 11,
   "metadata": {
    "scrolled": true
   },
   "outputs": [],
   "source": [
    "tokenizer = Tokenizer(\n",
    "    char_level=True,\n",
    "    filters=None,\n",
    "    lower=False,\n",
    "    num_words=num_unique_characters\n",
    ")\n",
    "\n",
    "tokenizer.fit_on_texts(corpora_train)\n",
    "sequences = tokenizer.texts_to_sequences(corpora_train)"
   ]
  },
  {
   "cell_type": "code",
   "execution_count": 26,
   "metadata": {},
   "outputs": [],
   "source": [
    "# with open(os.path.join(DATA_PATH, \"character_sequence_tokenizer.pkl\"), \"wb\") as f:\n",
    "#     pickle.dump(tokenizer, f)"
   ]
  },
  {
   "cell_type": "code",
   "execution_count": 12,
   "metadata": {
    "scrolled": true
   },
   "outputs": [],
   "source": [
    "padded_sequences = pad_sequences(sequences, maxlen=500)"
   ]
  },
  {
   "cell_type": "code",
   "execution_count": 13,
   "metadata": {},
   "outputs": [
    {
     "data": {
      "text/plain": [
       "(10139, 500)"
      ]
     },
     "execution_count": 13,
     "metadata": {},
     "output_type": "execute_result"
    }
   ],
   "source": [
    "padded_sequences.shape"
   ]
  },
  {
   "cell_type": "code",
   "execution_count": 14,
   "metadata": {},
   "outputs": [
    {
     "data": {
      "text/plain": [
       "array([ 1394,  1396,  1401,  1405,  1410,  1414,  1418,  1421,  1421,\n",
       "        1422,  1428,  1431,  1440,  1444,  1449,  1455,  1463,  1467,\n",
       "        1475,  1480,  1486,  1493,  1498,  1504,  1511,  1516,  1519,\n",
       "        1525,  1536,  1538,  1544,  1551,  1555,  1562,  1572,  1576,\n",
       "        1579,  1586,  1588,  1593,  1596,  1602,  1608,  1612,  1614,\n",
       "        1620,  1625,  1632,  1634,  1638,  1641,  1650,  1656,  1664,\n",
       "        1671,  1674,  1679,  1682,  1685,  1688,  1691,  1696,  1700,\n",
       "        1703,  1710,  1715,  1723,  1727,  1734,  1742,  1752,  1758,\n",
       "        1763,  1768,  1776,  1780,  1786,  1791,  1795,  1799,  1802,\n",
       "        1806,  1813,  1819,  1824,  1826,  1833,  1838,  1844,  1847,\n",
       "        1857,  1863,  1875,  1883,  1887,  1893,  1898,  1909,  1913,\n",
       "        1922,  1929,  1938,  1946,  1956,  1959,  1964,  1973,  1978,\n",
       "        1985,  1988,  1996,  2008,  2016,  2022,  2034,  2038,  2040,\n",
       "        2045,  2050,  2056,  2059,  2065,  2074,  2077,  2083,  2088,\n",
       "        2096,  2108,  2114,  2125,  2129,  2137,  2140,  2149,  2158,\n",
       "        2163,  2171,  2179,  2182,  2187,  2198,  2203,  2212,  2217,\n",
       "        2224,  2229,  2237,  2244,  2253,  2262,  2267,  2276,  2282,\n",
       "        2290,  2297,  2301,  2307,  2317,  2325,  2333,  2343,  2352,\n",
       "        2358,  2365,  2372,  2378,  2384,  2388,  2394,  2396,  2403,\n",
       "        2416,  2428,  2443,  2454,  2463,  2473,  2484,  2495,  2501,\n",
       "        2507,  2515,  2525,  2537,  2546,  2559,  2569,  2574,  2585,\n",
       "        2598,  2612,  2628,  2635,  2643,  2651,  2659,  2672,  2682,\n",
       "        2697,  2704,  2714,  2725,  2732,  2738,  2753,  2763,  2778,\n",
       "        2794,  2801,  2810,  2820,  2831,  2845,  2852,  2862,  2868,\n",
       "        2886,  2894,  2906,  2918,  2929,  2944,  2964,  2972,  2989,\n",
       "        2997,  3007,  3018,  3032,  3050,  3065,  3078,  3087,  3092,\n",
       "        3104,  3118,  3125,  3138,  3150,  3161,  3181,  3193,  3201,\n",
       "        3219,  3230,  3246,  3255,  3268,  3283,  3295,  3310,  3321,\n",
       "        3336,  3350,  3366,  3388,  3402,  3415,  3425,  3435,  3446,\n",
       "        3461,  3476,  3495,  3507,  3526,  3543,  3554,  3568,  3586,\n",
       "        3596,  3611,  3626,  3647,  3661,  3668,  3683,  3695,  3708,\n",
       "        3723,  3736,  3747,  3760,  3774,  3798,  3818,  3835,  3854,\n",
       "        3868,  3885,  3903,  3923,  3945,  3957,  3975,  3986,  4004,\n",
       "        4020,  4037,  4051,  4068,  4085,  4107,  4118,  4138,  4164,\n",
       "        4179,  4199,  4217,  4234,  4263,  4278,  4299,  4318,  4333,\n",
       "        4348,  4363,  4384,  4409,  4429,  4442,  4461,  4478,  4496,\n",
       "        4518,  4540,  4560,  4588,  4601,  4619,  4645,  4670,  4696,\n",
       "        4710,  4737,  4763,  4793,  4809,  4836,  4856,  4879,  4908,\n",
       "        4933,  4963,  4985,  5000,  5026,  5047,  5076,  5100,  5128,\n",
       "        5146,  5173,  5203,  5231,  5256,  5279,  5303,  5328,  5353,\n",
       "        5371,  5396,  5424,  5459,  5486,  5515,  5547,  5577,  5603,\n",
       "        5637,  5664,  5688,  5708,  5747,  5787,  5815,  5851,  5888,\n",
       "        5906,  5937,  5975,  6004,  6032,  6075,  6102,  6148,  6175,\n",
       "        6213,  6257,  6293,  6318,  6350,  6380,  6417,  6445,  6477,\n",
       "        6517,  6555,  6593,  6633,  6668,  6700,  6745,  6776,  6830,\n",
       "        6881,  6929,  6974,  7007,  7042,  7085,  7117,  7151,  7191,\n",
       "        7225,  7256,  7289,  7315,  7358,  7392,  7430,  7471,  7504,\n",
       "        7543,  7598,  7640,  7686,  7721,  7751,  7796,  7833,  7877,\n",
       "        7910,  7944,  7978,  8018,  8054,  8102,  8140,  8175,  8207,\n",
       "        8238,  8271,  8318,  8350,  8379,  8411,  8447,  8494,  8531,\n",
       "        8562,  8591,  8626,  8656,  8693,  8719,  8744,  8772,  8802,\n",
       "        8833,  8865,  8897,  8925,  8958,  8977,  9005,  9030,  9064,\n",
       "        9089,  9107,  9129,  9157,  9175,  9200,  9222,  9243,  9271,\n",
       "        9290,  9298,  9312,  9340,  9362,  9385,  9400,  9422,  9434,\n",
       "        9448,  9451,  9469,  9487,  9504,  9524,  9531,  9542,  9556,\n",
       "        9613,  9624,  9645,  9667, 10019])"
      ]
     },
     "execution_count": 14,
     "metadata": {},
     "output_type": "execute_result"
    }
   ],
   "source": [
    "# characters per column\n",
    "\n",
    "(padded_sequences >  0 ).sum(axis=0)"
   ]
  },
  {
   "cell_type": "markdown",
   "metadata": {},
   "source": [
    "## Create and train model"
   ]
  },
  {
   "cell_type": "code",
   "execution_count": 16,
   "metadata": {
    "collapsed": true
   },
   "outputs": [],
   "source": [
    "labels = pd.get_dummies(labels_train)"
   ]
  },
  {
   "cell_type": "code",
   "execution_count": 15,
   "metadata": {
    "scrolled": false
   },
   "outputs": [
    {
     "name": "stdout",
     "output_type": "stream",
     "text": [
      "__________________________________________________________________________________________________\n",
      "Layer (type)                    Output Shape         Param #     Connected to                     \n",
      "==================================================================================================\n",
      "input_1 (InputLayer)            (None, 500, 94)      0                                            \n",
      "__________________________________________________________________________________________________\n",
      "lstm_1 (LSTM)                   (None, 500, 128)     114176      input_1[0][0]                    \n",
      "__________________________________________________________________________________________________\n",
      "activation_1 (Activation)       (None, 500, 128)     0           lstm_1[0][0]                     \n",
      "__________________________________________________________________________________________________\n",
      "dropout_1 (Dropout)             (None, 500, 128)     0           activation_1[0][0]               \n",
      "__________________________________________________________________________________________________\n",
      "batch_normalization_1 (BatchNor (None, 500, 128)     512         dropout_1[0][0]                  \n",
      "__________________________________________________________________________________________________\n",
      "lstm_2 (LSTM)                   (None, 128)          131584      batch_normalization_1[0][0]      \n",
      "__________________________________________________________________________________________________\n",
      "activation_2 (Activation)       (None, 128)          0           lstm_2[0][0]                     \n",
      "__________________________________________________________________________________________________\n",
      "dropout_2 (Dropout)             (None, 128)          0           activation_2[0][0]               \n",
      "__________________________________________________________________________________________________\n",
      "batch_normalization_2 (BatchNor (None, 128)          512         dropout_2[0][0]                  \n",
      "__________________________________________________________________________________________________\n",
      "attention_probs (Dense)         (None, 128)          16512       batch_normalization_2[0][0]      \n",
      "__________________________________________________________________________________________________\n",
      "attention_mul (Multiply)        (None, 128)          0           batch_normalization_2[0][0]      \n",
      "                                                                 attention_probs[0][0]            \n",
      "__________________________________________________________________________________________________\n",
      "dense_1 (Dense)                 (None, 11)           1419        attention_mul[0][0]              \n",
      "__________________________________________________________________________________________________\n",
      "activation_3 (Activation)       (None, 11)           0           dense_1[0][0]                    \n",
      "==================================================================================================\n",
      "Total params: 264,715\n",
      "Trainable params: 264,203\n",
      "Non-trainable params: 512\n",
      "__________________________________________________________________________________________________\n"
     ]
    }
   ],
   "source": [
    "model = sequence_model(padded_sequences, labels, num_unique_characters)\n",
    "model.summary()"
   ]
  },
  {
   "cell_type": "code",
   "execution_count": 19,
   "metadata": {
    "collapsed": true
   },
   "outputs": [],
   "source": [
    "sequences_3d = to_categorical(padded_sequences)"
   ]
  },
  {
   "cell_type": "code",
   "execution_count": 20,
   "metadata": {},
   "outputs": [
    {
     "data": {
      "text/plain": [
       "(10139, 500, 94)"
      ]
     },
     "execution_count": 20,
     "metadata": {},
     "output_type": "execute_result"
    }
   ],
   "source": [
    "sequences_3d.shape"
   ]
  },
  {
   "cell_type": "code",
   "execution_count": null,
   "metadata": {},
   "outputs": [
    {
     "name": "stdout",
     "output_type": "stream",
     "text": [
      "Train on 9125 samples, validate on 1014 samples\n",
      "Epoch 1/100\n",
      "9125/9125 [==============================] - 555s 61ms/step - loss: 2.3874 - acc: 0.1904 - val_loss: 2.3693 - val_acc: 0.3116\n",
      "Epoch 2/100\n",
      "9125/9125 [==============================] - 573s 63ms/step - loss: 2.3220 - acc: 0.2963 - val_loss: 2.2749 - val_acc: 0.3688\n",
      "Epoch 3/100\n",
      "9125/9125 [==============================] - 576s 63ms/step - loss: 2.2863 - acc: 0.3083 - val_loss: 2.2427 - val_acc: 0.3787\n",
      "Epoch 4/100\n",
      "9125/9125 [==============================] - 647s 71ms/step - loss: 2.2347 - acc: 0.3242 - val_loss: 2.1560 - val_acc: 0.3590\n",
      "Epoch 5/100\n",
      "9125/9125 [==============================] - 644s 71ms/step - loss: 2.1670 - acc: 0.3155 - val_loss: 2.0703 - val_acc: 0.3748\n",
      "Epoch 6/100\n",
      "9125/9125 [==============================] - 651s 71ms/step - loss: 2.1327 - acc: 0.3261 - val_loss: 2.0486 - val_acc: 0.3767\n",
      "Epoch 7/100\n",
      "9125/9125 [==============================] - 664s 73ms/step - loss: 2.0780 - acc: 0.3303 - val_loss: 2.0168 - val_acc: 0.3787\n",
      "Epoch 8/100\n",
      "4832/9125 [==============>...............] - ETA: 5:04 - loss: 2.0537 - acc: 0.3264"
     ]
    }
   ],
   "source": [
    "model.fit(sequences_3d, labels, epochs=100, validation_split=0.1)"
   ]
  },
  {
   "cell_type": "code",
   "execution_count": 23,
   "metadata": {
    "collapsed": true
   },
   "outputs": [],
   "source": [
    "# model.save(os.path.join(MODELS_PATH,'ffn_sample_model_sentences_bi.h5'))"
   ]
  },
  {
   "cell_type": "markdown",
   "metadata": {},
   "source": [
    "## Test on unseen data "
   ]
  },
  {
   "cell_type": "code",
   "execution_count": 36,
   "metadata": {
    "collapsed": true
   },
   "outputs": [],
   "source": [
    "test_data = []\n",
    "for i in training_data:\n",
    "    X_test, y_test = prepare_test_data(corpora_test, labels_test, i['pipeline_instance'])\n",
    "    test_data.append({'X_test': X_test, 'y_test': y_test})"
   ]
  },
  {
   "cell_type": "code",
   "execution_count": 38,
   "metadata": {},
   "outputs": [
    {
     "data": {
      "text/html": [
       "<div>\n",
       "<style scoped>\n",
       "    .dataframe tbody tr th:only-of-type {\n",
       "        vertical-align: middle;\n",
       "    }\n",
       "\n",
       "    .dataframe tbody tr th {\n",
       "        vertical-align: top;\n",
       "    }\n",
       "\n",
       "    .dataframe thead th {\n",
       "        text-align: right;\n",
       "    }\n",
       "</style>\n",
       "<table border=\"1\" class=\"dataframe\">\n",
       "  <thead>\n",
       "    <tr style=\"text-align: right;\">\n",
       "      <th></th>\n",
       "      <th></th>\n",
       "      <th>!</th>\n",
       "      <th>\"</th>\n",
       "      <th>#</th>\n",
       "      <th>$</th>\n",
       "      <th>%</th>\n",
       "      <th>&amp;</th>\n",
       "      <th>'</th>\n",
       "      <th>(</th>\n",
       "      <th>)</th>\n",
       "      <th>...</th>\n",
       "      <th>u</th>\n",
       "      <th>v</th>\n",
       "      <th>w</th>\n",
       "      <th>x</th>\n",
       "      <th>y</th>\n",
       "      <th>z</th>\n",
       "      <th>{</th>\n",
       "      <th>|</th>\n",
       "      <th>}</th>\n",
       "      <th>~</th>\n",
       "    </tr>\n",
       "  </thead>\n",
       "  <tbody>\n",
       "    <tr>\n",
       "      <th>0</th>\n",
       "      <td>0.351427</td>\n",
       "      <td>0.0</td>\n",
       "      <td>0.0</td>\n",
       "      <td>0.0</td>\n",
       "      <td>0.0</td>\n",
       "      <td>0.0</td>\n",
       "      <td>0.0</td>\n",
       "      <td>0.000000</td>\n",
       "      <td>0.080407</td>\n",
       "      <td>0.080444</td>\n",
       "      <td>...</td>\n",
       "      <td>0.198643</td>\n",
       "      <td>0.000000</td>\n",
       "      <td>0.168340</td>\n",
       "      <td>0.118161</td>\n",
       "      <td>0.178917</td>\n",
       "      <td>0.000000</td>\n",
       "      <td>0.0</td>\n",
       "      <td>0.0</td>\n",
       "      <td>0.0</td>\n",
       "      <td>0.0</td>\n",
       "    </tr>\n",
       "    <tr>\n",
       "      <th>1</th>\n",
       "      <td>0.531607</td>\n",
       "      <td>0.0</td>\n",
       "      <td>0.0</td>\n",
       "      <td>0.0</td>\n",
       "      <td>0.0</td>\n",
       "      <td>0.0</td>\n",
       "      <td>0.0</td>\n",
       "      <td>0.000000</td>\n",
       "      <td>0.000000</td>\n",
       "      <td>0.000000</td>\n",
       "      <td>...</td>\n",
       "      <td>0.037561</td>\n",
       "      <td>0.000000</td>\n",
       "      <td>0.038198</td>\n",
       "      <td>0.268115</td>\n",
       "      <td>0.121792</td>\n",
       "      <td>0.000000</td>\n",
       "      <td>0.0</td>\n",
       "      <td>0.0</td>\n",
       "      <td>0.0</td>\n",
       "      <td>0.0</td>\n",
       "    </tr>\n",
       "    <tr>\n",
       "      <th>2</th>\n",
       "      <td>0.470930</td>\n",
       "      <td>0.0</td>\n",
       "      <td>0.0</td>\n",
       "      <td>0.0</td>\n",
       "      <td>0.0</td>\n",
       "      <td>0.0</td>\n",
       "      <td>0.0</td>\n",
       "      <td>0.000000</td>\n",
       "      <td>0.000000</td>\n",
       "      <td>0.000000</td>\n",
       "      <td>...</td>\n",
       "      <td>0.038955</td>\n",
       "      <td>0.054692</td>\n",
       "      <td>0.066025</td>\n",
       "      <td>0.000000</td>\n",
       "      <td>0.014035</td>\n",
       "      <td>0.000000</td>\n",
       "      <td>0.0</td>\n",
       "      <td>0.0</td>\n",
       "      <td>0.0</td>\n",
       "      <td>0.0</td>\n",
       "    </tr>\n",
       "    <tr>\n",
       "      <th>3</th>\n",
       "      <td>0.231594</td>\n",
       "      <td>0.0</td>\n",
       "      <td>0.0</td>\n",
       "      <td>0.0</td>\n",
       "      <td>0.0</td>\n",
       "      <td>0.0</td>\n",
       "      <td>0.0</td>\n",
       "      <td>0.000000</td>\n",
       "      <td>0.000000</td>\n",
       "      <td>0.000000</td>\n",
       "      <td>...</td>\n",
       "      <td>0.087272</td>\n",
       "      <td>0.000000</td>\n",
       "      <td>0.266251</td>\n",
       "      <td>0.000000</td>\n",
       "      <td>0.188653</td>\n",
       "      <td>0.151879</td>\n",
       "      <td>0.0</td>\n",
       "      <td>0.0</td>\n",
       "      <td>0.0</td>\n",
       "      <td>0.0</td>\n",
       "    </tr>\n",
       "    <tr>\n",
       "      <th>4</th>\n",
       "      <td>0.380765</td>\n",
       "      <td>0.0</td>\n",
       "      <td>0.0</td>\n",
       "      <td>0.0</td>\n",
       "      <td>0.0</td>\n",
       "      <td>0.0</td>\n",
       "      <td>0.0</td>\n",
       "      <td>0.075985</td>\n",
       "      <td>0.065340</td>\n",
       "      <td>0.065370</td>\n",
       "      <td>...</td>\n",
       "      <td>0.336291</td>\n",
       "      <td>0.018886</td>\n",
       "      <td>0.054718</td>\n",
       "      <td>0.000000</td>\n",
       "      <td>0.087234</td>\n",
       "      <td>0.070230</td>\n",
       "      <td>0.0</td>\n",
       "      <td>0.0</td>\n",
       "      <td>0.0</td>\n",
       "      <td>0.0</td>\n",
       "    </tr>\n",
       "  </tbody>\n",
       "</table>\n",
       "<p>5 rows × 68 columns</p>\n",
       "</div>"
      ],
      "text/plain": [
       "               !    \"    #    $    %    &         '         (         ) ...   \\\n",
       "0  0.351427  0.0  0.0  0.0  0.0  0.0  0.0  0.000000  0.080407  0.080444 ...    \n",
       "1  0.531607  0.0  0.0  0.0  0.0  0.0  0.0  0.000000  0.000000  0.000000 ...    \n",
       "2  0.470930  0.0  0.0  0.0  0.0  0.0  0.0  0.000000  0.000000  0.000000 ...    \n",
       "3  0.231594  0.0  0.0  0.0  0.0  0.0  0.0  0.000000  0.000000  0.000000 ...    \n",
       "4  0.380765  0.0  0.0  0.0  0.0  0.0  0.0  0.075985  0.065340  0.065370 ...    \n",
       "\n",
       "          u         v         w         x         y         z    {    |    }  \\\n",
       "0  0.198643  0.000000  0.168340  0.118161  0.178917  0.000000  0.0  0.0  0.0   \n",
       "1  0.037561  0.000000  0.038198  0.268115  0.121792  0.000000  0.0  0.0  0.0   \n",
       "2  0.038955  0.054692  0.066025  0.000000  0.014035  0.000000  0.0  0.0  0.0   \n",
       "3  0.087272  0.000000  0.266251  0.000000  0.188653  0.151879  0.0  0.0  0.0   \n",
       "4  0.336291  0.018886  0.054718  0.000000  0.087234  0.070230  0.0  0.0  0.0   \n",
       "\n",
       "     ~  \n",
       "0  0.0  \n",
       "1  0.0  \n",
       "2  0.0  \n",
       "3  0.0  \n",
       "4  0.0  \n",
       "\n",
       "[5 rows x 68 columns]"
      ]
     },
     "execution_count": 38,
     "metadata": {},
     "output_type": "execute_result"
    }
   ],
   "source": [
    "test_data[0]['X_test'].head()"
   ]
  },
  {
   "cell_type": "code",
   "execution_count": 39,
   "metadata": {
    "scrolled": false
   },
   "outputs": [
    {
     "data": {
      "text/html": [
       "<div>\n",
       "<style scoped>\n",
       "    .dataframe tbody tr th:only-of-type {\n",
       "        vertical-align: middle;\n",
       "    }\n",
       "\n",
       "    .dataframe tbody tr th {\n",
       "        vertical-align: top;\n",
       "    }\n",
       "\n",
       "    .dataframe thead th {\n",
       "        text-align: right;\n",
       "    }\n",
       "</style>\n",
       "<table border=\"1\" class=\"dataframe\">\n",
       "  <thead>\n",
       "    <tr style=\"text-align: right;\">\n",
       "      <th></th>\n",
       "      <th>af</th>\n",
       "      <th>en</th>\n",
       "      <th>nr</th>\n",
       "      <th>nso</th>\n",
       "      <th>ss</th>\n",
       "      <th>st</th>\n",
       "      <th>tn</th>\n",
       "      <th>ts</th>\n",
       "      <th>ve</th>\n",
       "      <th>xh</th>\n",
       "      <th>zu</th>\n",
       "    </tr>\n",
       "  </thead>\n",
       "  <tbody>\n",
       "    <tr>\n",
       "      <th>34750</th>\n",
       "      <td>0</td>\n",
       "      <td>0</td>\n",
       "      <td>0</td>\n",
       "      <td>0</td>\n",
       "      <td>0</td>\n",
       "      <td>0</td>\n",
       "      <td>0</td>\n",
       "      <td>0</td>\n",
       "      <td>0</td>\n",
       "      <td>1</td>\n",
       "      <td>0</td>\n",
       "    </tr>\n",
       "    <tr>\n",
       "      <th>18986</th>\n",
       "      <td>0</td>\n",
       "      <td>0</td>\n",
       "      <td>0</td>\n",
       "      <td>1</td>\n",
       "      <td>0</td>\n",
       "      <td>0</td>\n",
       "      <td>0</td>\n",
       "      <td>0</td>\n",
       "      <td>0</td>\n",
       "      <td>0</td>\n",
       "      <td>0</td>\n",
       "    </tr>\n",
       "    <tr>\n",
       "      <th>13655</th>\n",
       "      <td>0</td>\n",
       "      <td>1</td>\n",
       "      <td>0</td>\n",
       "      <td>0</td>\n",
       "      <td>0</td>\n",
       "      <td>0</td>\n",
       "      <td>0</td>\n",
       "      <td>0</td>\n",
       "      <td>0</td>\n",
       "      <td>0</td>\n",
       "      <td>0</td>\n",
       "    </tr>\n",
       "    <tr>\n",
       "      <th>15126</th>\n",
       "      <td>0</td>\n",
       "      <td>0</td>\n",
       "      <td>1</td>\n",
       "      <td>0</td>\n",
       "      <td>0</td>\n",
       "      <td>0</td>\n",
       "      <td>0</td>\n",
       "      <td>0</td>\n",
       "      <td>0</td>\n",
       "      <td>0</td>\n",
       "      <td>0</td>\n",
       "    </tr>\n",
       "    <tr>\n",
       "      <th>21978</th>\n",
       "      <td>0</td>\n",
       "      <td>0</td>\n",
       "      <td>0</td>\n",
       "      <td>0</td>\n",
       "      <td>1</td>\n",
       "      <td>0</td>\n",
       "      <td>0</td>\n",
       "      <td>0</td>\n",
       "      <td>0</td>\n",
       "      <td>0</td>\n",
       "      <td>0</td>\n",
       "    </tr>\n",
       "  </tbody>\n",
       "</table>\n",
       "</div>"
      ],
      "text/plain": [
       "       af  en  nr  nso  ss  st  tn  ts  ve  xh  zu\n",
       "34750   0   0   0    0   0   0   0   0   0   1   0\n",
       "18986   0   0   0    1   0   0   0   0   0   0   0\n",
       "13655   0   1   0    0   0   0   0   0   0   0   0\n",
       "15126   0   0   1    0   0   0   0   0   0   0   0\n",
       "21978   0   0   0    0   1   0   0   0   0   0   0"
      ]
     },
     "execution_count": 39,
     "metadata": {},
     "output_type": "execute_result"
    }
   ],
   "source": [
    "test_data[0]['y_test'].head()"
   ]
  },
  {
   "cell_type": "code",
   "execution_count": 42,
   "metadata": {},
   "outputs": [
    {
     "name": "stdout",
     "output_type": "stream",
     "text": [
      "30417/30417 [==============================] - 1s 28us/step\n",
      "Model test accuracy 77.2\n",
      "30417/30417 [==============================] - 2s 51us/step\n",
      "Model test accuracy 75.77000000000001\n",
      "30417/30417 [==============================] - 15s 504us/step\n",
      "Model test accuracy 71.95\n"
     ]
    }
   ],
   "source": [
    "for idx, i in enumerate(test_data):\n",
    "    score, accuracy = models[idx].evaluate(i['X_test'], i['y_test'])\n",
    "    print('Model test accuracy', accuracy.round(4)*100)"
   ]
  }
 ],
 "metadata": {
  "kernelspec": {
   "display_name": "sa_lang",
   "language": "python",
   "name": "sa_lang"
  },
  "language_info": {
   "codemirror_mode": {
    "name": "ipython",
    "version": 3
   },
   "file_extension": ".py",
   "mimetype": "text/x-python",
   "name": "python",
   "nbconvert_exporter": "python",
   "pygments_lexer": "ipython3",
   "version": "3.5.2"
  }
 },
 "nbformat": 4,
 "nbformat_minor": 2
}
