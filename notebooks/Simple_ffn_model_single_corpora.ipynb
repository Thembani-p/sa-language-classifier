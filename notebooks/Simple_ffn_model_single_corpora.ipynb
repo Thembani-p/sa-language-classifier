{
 "cells": [
  {
   "cell_type": "markdown",
   "metadata": {},
   "source": [
    "# A simple feed forward model\n",
    "\n",
    "```\n",
    "\n",
    "\n",
    "\n",
    "\n",
    "```\n",
    "- [Read data](#Read-data)\n",
    "- [Prepare data](#Prepare-data)\n",
    "- [Create and train model](#Create-and-train-model)\n",
    "- [Test on unseen data](#Test-on-unseen-data)"
   ]
  },
  {
   "cell_type": "code",
   "execution_count": 1,
   "metadata": {
    "collapsed": true
   },
   "outputs": [],
   "source": [
    "import os\n",
    "import sys\n",
    "import json\n",
    "import pickle\n",
    "\n",
    "import numpy as np\n",
    "import pandas as pd\n",
    "\n",
    "from sklearn.model_selection import train_test_split"
   ]
  },
  {
   "cell_type": "code",
   "execution_count": 2,
   "metadata": {},
   "outputs": [
    {
     "name": "stderr",
     "output_type": "stream",
     "text": [
      "Using TensorFlow backend.\n"
     ]
    }
   ],
   "source": [
    "MODULES_PATH = '../modules'\n",
    "MODELS_PATH = '../models'\n",
    "DATA_PATH = '../data'\n",
    "\n",
    "sys.path.append(MODULES_PATH)\n",
    "from data import flatten_data, prepare_training_data, prepare_test_data\n",
    "from models import simple_ffn"
   ]
  },
  {
   "cell_type": "code",
   "execution_count": 3,
   "metadata": {},
   "outputs": [
    {
     "name": "stdout",
     "output_type": "stream",
     "text": [
      "[name: \"/device:CPU:0\"\n",
      "device_type: \"CPU\"\n",
      "memory_limit: 268435456\n",
      "locality {\n",
      "}\n",
      "incarnation: 10764946797048720480\n",
      ", name: \"/device:GPU:0\"\n",
      "device_type: \"GPU\"\n",
      "memory_limit: 4951913267\n",
      "locality {\n",
      "  bus_id: 1\n",
      "  links {\n",
      "  }\n",
      "}\n",
      "incarnation: 11699701866648019640\n",
      "physical_device_desc: \"device: 0, name: GeForce GTX 1060 with Max-Q Design, pci bus id: 0000:01:00.0, compute capability: 6.1\"\n",
      "]\n"
     ]
    }
   ],
   "source": [
    "from tensorflow.python.client import device_lib\n",
    "print(device_lib.list_local_devices())"
   ]
  },
  {
   "cell_type": "markdown",
   "metadata": {},
   "source": [
    "## Read data"
   ]
  },
  {
   "cell_type": "code",
   "execution_count": 4,
   "metadata": {
    "collapsed": true
   },
   "outputs": [],
   "source": [
    "with open(os.path.join(DATA_PATH,'single_corpora.json'),'r') as datafile:\n",
    "    single_corpora = json.load(datafile)"
   ]
  },
  {
   "cell_type": "code",
   "execution_count": 5,
   "metadata": {},
   "outputs": [
    {
     "data": {
      "text/plain": [
       "[38238, 478811, 75634, 69254, 49012, 38206, 40485, 32279, 58398]"
      ]
     },
     "execution_count": 5,
     "metadata": {},
     "output_type": "execute_result"
    }
   ],
   "source": [
    "# document class balance\n",
    "[len(i) for i in single_corpora]"
   ]
  },
  {
   "cell_type": "markdown",
   "metadata": {},
   "source": [
    "## Prepare data"
   ]
  },
  {
   "cell_type": "code",
   "execution_count": 6,
   "metadata": {
    "collapsed": true
   },
   "outputs": [],
   "source": [
    "flat_corpora, flat_labels = flatten_data(single_corpora)"
   ]
  },
  {
   "cell_type": "code",
   "execution_count": 7,
   "metadata": {
    "collapsed": true
   },
   "outputs": [],
   "source": [
    "corpora_train, corpora_test, labels_train, labels_test = train_test_split(\n",
    "                                                        flat_corpora,\n",
    "                                                        flat_labels,\n",
    "                                                        test_size=0.25,\n",
    "                                                        random_state=123)"
   ]
  },
  {
   "cell_type": "code",
   "execution_count": 8,
   "metadata": {
    "collapsed": true
   },
   "outputs": [],
   "source": [
    "with open(os.path.join(DATA_PATH, 'train_data.pickle'),'wb') as datafile:\n",
    "        pickle.dump((corpora_train, labels_train), datafile)"
   ]
  },
  {
   "cell_type": "code",
   "execution_count": 9,
   "metadata": {
    "collapsed": true
   },
   "outputs": [],
   "source": [
    "with open(os.path.join(DATA_PATH, 'test_data.pickle'),'wb') as datafile:\n",
    "        pickle.dump((corpora_test, labels_test), datafile)"
   ]
  },
  {
   "cell_type": "code",
   "execution_count": 10,
   "metadata": {
    "collapsed": true
   },
   "outputs": [],
   "source": [
    "document_matrix, labels, pipeline_instance = prepare_training_data(corpora_train, labels_train)"
   ]
  },
  {
   "cell_type": "code",
   "execution_count": 12,
   "metadata": {
    "scrolled": true
   },
   "outputs": [
    {
     "data": {
      "text/plain": [
       "((653432, 2346), (653432, 9), Pipeline(memory=None,\n",
       "      steps=[('vect', CountVectorizer(analyzer='char', binary=False, decode_error='strict',\n",
       "         dtype=<class 'numpy.int64'>, encoding='utf-8', input='content',\n",
       "         lowercase=True, max_df=1.0, max_features=None, min_df=1,\n",
       "         ngram_range=(2, 2), preprocessor=None, stop_words=None,\n",
       "         strip_accents=None, token_pattern='(?u)\\\\b\\\\w\\\\w+\\\\b',\n",
       "         tokenizer=None, vocabulary=None)), ('tfidf', TfidfTransformer(norm='l2', smooth_idf=True, sublinear_tf=False, use_idf=True))]))"
      ]
     },
     "execution_count": 12,
     "metadata": {},
     "output_type": "execute_result"
    }
   ],
   "source": [
    "document_matrix.shape, labels.shape, pipeline_instance"
   ]
  },
  {
   "cell_type": "code",
   "execution_count": 11,
   "metadata": {
    "collapsed": true
   },
   "outputs": [],
   "source": [
    "with open(os.path.join(DATA_PATH, 'pipeline_instance.pickle'),'wb') as datafile:\n",
    "        pickle.dump(pipeline_instance, datafile)"
   ]
  },
  {
   "cell_type": "markdown",
   "metadata": {},
   "source": [
    "## Create and train model"
   ]
  },
  {
   "cell_type": "code",
   "execution_count": 22,
   "metadata": {
    "scrolled": false
   },
   "outputs": [
    {
     "name": "stdout",
     "output_type": "stream",
     "text": [
      "__________________________________________________________________________________________________\n",
      "Layer (type)                    Output Shape         Param #     Connected to                     \n",
      "==================================================================================================\n",
      "input_5 (InputLayer)            (None, 2346)         0                                            \n",
      "__________________________________________________________________________________________________\n",
      "dense_9 (Dense)                 (None, 128)          300416      input_5[0][0]                    \n",
      "__________________________________________________________________________________________________\n",
      "activation_9 (Activation)       (None, 128)          0           dense_9[0][0]                    \n",
      "__________________________________________________________________________________________________\n",
      "dropout_5 (Dropout)             (None, 128)          0           activation_9[0][0]               \n",
      "__________________________________________________________________________________________________\n",
      "batch_normalization_5 (BatchNor (None, 128)          512         dropout_5[0][0]                  \n",
      "__________________________________________________________________________________________________\n",
      "attention_probs (Dense)         (None, 128)          16512       batch_normalization_5[0][0]      \n",
      "__________________________________________________________________________________________________\n",
      "attention_mul (Multiply)        (None, 128)          0           batch_normalization_5[0][0]      \n",
      "                                                                 attention_probs[0][0]            \n",
      "__________________________________________________________________________________________________\n",
      "dense_10 (Dense)                (None, 9)            1161        attention_mul[0][0]              \n",
      "__________________________________________________________________________________________________\n",
      "activation_10 (Activation)      (None, 9)            0           dense_10[0][0]                   \n",
      "==================================================================================================\n",
      "Total params: 318,601\n",
      "Trainable params: 318,345\n",
      "Non-trainable params: 256\n",
      "__________________________________________________________________________________________________\n"
     ]
    }
   ],
   "source": [
    "model = simple_ffn(document_matrix, labels)\n",
    "model.summary()"
   ]
  },
  {
   "cell_type": "code",
   "execution_count": 23,
   "metadata": {
    "scrolled": false
   },
   "outputs": [
    {
     "name": "stdout",
     "output_type": "stream",
     "text": [
      "Train on 588088 samples, validate on 65344 samples\n",
      "Epoch 1/25\n",
      " - 36s - loss: 2.0353 - acc: 0.7093 - val_loss: 1.7836 - val_acc: 0.8133\n",
      "Epoch 2/25\n",
      " - 34s - loss: 1.6477 - acc: 0.7195 - val_loss: 1.4843 - val_acc: 0.8132\n",
      "Epoch 3/25\n",
      " - 33s - loss: 1.4301 - acc: 0.7204 - val_loss: 1.2928 - val_acc: 0.8152\n",
      "Epoch 4/25\n",
      " - 34s - loss: 1.2740 - acc: 0.7230 - val_loss: 1.1412 - val_acc: 0.8163\n",
      "Epoch 5/25\n",
      " - 34s - loss: 1.1463 - acc: 0.7432 - val_loss: 1.0135 - val_acc: 0.8580\n",
      "Epoch 6/25\n",
      " - 34s - loss: 1.0397 - acc: 0.7919 - val_loss: 0.8992 - val_acc: 0.8585\n",
      "Epoch 7/25\n",
      " - 33s - loss: 0.9451 - acc: 0.8081 - val_loss: 0.7960 - val_acc: 0.8591\n",
      "Epoch 8/25\n",
      " - 34s - loss: 0.8593 - acc: 0.8106 - val_loss: 0.7037 - val_acc: 0.8594\n",
      "Epoch 9/25\n",
      " - 34s - loss: 0.7874 - acc: 0.8106 - val_loss: 0.6284 - val_acc: 0.8594\n",
      "Epoch 10/25\n",
      " - 33s - loss: 0.7279 - acc: 0.8107 - val_loss: 0.5668 - val_acc: 0.8598\n",
      "Epoch 11/25\n",
      " - 34s - loss: 0.6726 - acc: 0.8114 - val_loss: 0.5171 - val_acc: 0.8601\n",
      "Epoch 12/25\n",
      " - 34s - loss: 0.6247 - acc: 0.8117 - val_loss: 0.4782 - val_acc: 0.8606\n",
      "Epoch 13/25\n",
      " - 33s - loss: 0.5800 - acc: 0.8117 - val_loss: 0.4458 - val_acc: 0.8609\n",
      "Epoch 14/25\n",
      " - 34s - loss: 0.5418 - acc: 0.8121 - val_loss: 0.4164 - val_acc: 0.8611\n",
      "Epoch 15/25\n",
      " - 33s - loss: 0.5103 - acc: 0.8124 - val_loss: 0.3913 - val_acc: 0.8613\n",
      "Epoch 16/25\n",
      " - 34s - loss: 0.4833 - acc: 0.8129 - val_loss: 0.3688 - val_acc: 0.8616\n",
      "Epoch 17/25\n",
      " - 33s - loss: 0.4630 - acc: 0.8124 - val_loss: 0.3492 - val_acc: 0.8618\n",
      "Epoch 18/25\n",
      " - 33s - loss: 0.4453 - acc: 0.8124 - val_loss: 0.3322 - val_acc: 0.8622\n",
      "Epoch 19/25\n",
      " - 33s - loss: 0.4275 - acc: 0.8133 - val_loss: 0.3178 - val_acc: 0.8626\n",
      "Epoch 20/25\n",
      " - 34s - loss: 0.4128 - acc: 0.8138 - val_loss: 0.3059 - val_acc: 0.8632\n",
      "Epoch 21/25\n",
      " - 34s - loss: 0.3938 - acc: 0.8216 - val_loss: 0.2944 - val_acc: 0.8649\n",
      "Epoch 22/25\n",
      " - 34s - loss: 0.3769 - acc: 0.8289 - val_loss: 0.2743 - val_acc: 0.8973\n",
      "Epoch 23/25\n",
      " - 35s - loss: 0.3391 - acc: 0.8639 - val_loss: 0.2296 - val_acc: 0.9416\n",
      "Epoch 24/25\n",
      " - 34s - loss: 0.2951 - acc: 0.8952 - val_loss: 0.1980 - val_acc: 0.9458\n",
      "Epoch 25/25\n",
      " - 34s - loss: 0.2691 - acc: 0.8987 - val_loss: 0.1801 - val_acc: 0.9466\n"
     ]
    },
    {
     "data": {
      "text/plain": [
       "<keras.callbacks.History at 0x23fa8b3ae10>"
      ]
     },
     "execution_count": 23,
     "metadata": {},
     "output_type": "execute_result"
    }
   ],
   "source": [
    "model.fit(document_matrix, labels, epochs=25, validation_split=0.1, verbose=2, batch_size=1024)"
   ]
  },
  {
   "cell_type": "code",
   "execution_count": 24,
   "metadata": {},
   "outputs": [
    {
     "name": "stdout",
     "output_type": "stream",
     "text": [
      "Train on 588088 samples, validate on 65344 samples\n",
      "Epoch 1/25\n",
      " - 33s - loss: 0.2544 - acc: 0.8992 - val_loss: 0.1665 - val_acc: 0.9472\n",
      "Epoch 2/25\n",
      " - 33s - loss: 0.2423 - acc: 0.8998 - val_loss: 0.1563 - val_acc: 0.9476\n",
      "Epoch 3/25\n",
      " - 34s - loss: 0.2292 - acc: 0.9028 - val_loss: 0.1491 - val_acc: 0.9485\n",
      "Epoch 4/25\n",
      " - 33s - loss: 0.2097 - acc: 0.9111 - val_loss: 0.1403 - val_acc: 0.9510\n",
      "Epoch 5/25\n",
      " - 34s - loss: 0.1898 - acc: 0.9243 - val_loss: 0.1273 - val_acc: 0.9683\n",
      "Epoch 6/25\n",
      " - 34s - loss: 0.1739 - acc: 0.9407 - val_loss: 0.1124 - val_acc: 0.9777\n",
      "Epoch 7/25\n",
      " - 34s - loss: 0.1618 - acc: 0.9503 - val_loss: 0.1005 - val_acc: 0.9813\n",
      "Epoch 8/25\n",
      " - 33s - loss: 0.1518 - acc: 0.9539 - val_loss: 0.0915 - val_acc: 0.9825\n",
      "Epoch 9/25\n",
      " - 34s - loss: 0.1444 - acc: 0.9556 - val_loss: 0.0850 - val_acc: 0.9835\n",
      "Epoch 10/25\n",
      " - 34s - loss: 0.1374 - acc: 0.9575 - val_loss: 0.0801 - val_acc: 0.9839\n",
      "Epoch 11/25\n",
      " - 33s - loss: 0.1308 - acc: 0.9592 - val_loss: 0.0762 - val_acc: 0.9848\n",
      "Epoch 12/25\n",
      " - 34s - loss: 0.1234 - acc: 0.9609 - val_loss: 0.0728 - val_acc: 0.9848\n",
      "Epoch 13/25\n",
      " - 34s - loss: 0.1181 - acc: 0.9642 - val_loss: 0.0699 - val_acc: 0.9850\n",
      "Epoch 14/25\n",
      " - 34s - loss: 0.1126 - acc: 0.9678 - val_loss: 0.0680 - val_acc: 0.9851\n",
      "Epoch 15/25\n",
      " - 34s - loss: 0.1052 - acc: 0.9721 - val_loss: 0.0659 - val_acc: 0.9852\n",
      "Epoch 16/25\n",
      " - 34s - loss: 0.0998 - acc: 0.9749 - val_loss: 0.0643 - val_acc: 0.9852\n",
      "Epoch 17/25\n",
      " - 33s - loss: 0.0946 - acc: 0.9770 - val_loss: 0.0630 - val_acc: 0.9852\n",
      "Epoch 18/25\n",
      " - 34s - loss: 0.0860 - acc: 0.9773 - val_loss: 0.0620 - val_acc: 0.9851\n",
      "Epoch 19/25\n",
      " - 34s - loss: 0.0800 - acc: 0.9778 - val_loss: 0.0602 - val_acc: 0.9855\n",
      "Epoch 20/25\n",
      " - 33s - loss: 0.0754 - acc: 0.9798 - val_loss: 0.0590 - val_acc: 0.9854\n",
      "Epoch 21/25\n",
      " - 33s - loss: 0.0711 - acc: 0.9816 - val_loss: 0.0574 - val_acc: 0.9857\n",
      "Epoch 22/25\n",
      " - 34s - loss: 0.0682 - acc: 0.9823 - val_loss: 0.0566 - val_acc: 0.9858\n",
      "Epoch 23/25\n",
      " - 34s - loss: 0.0653 - acc: 0.9828 - val_loss: 0.0557 - val_acc: 0.9857\n",
      "Epoch 24/25\n",
      " - 34s - loss: 0.0635 - acc: 0.9830 - val_loss: 0.0547 - val_acc: 0.9860\n",
      "Epoch 25/25\n",
      " - 34s - loss: 0.0610 - acc: 0.9835 - val_loss: 0.0541 - val_acc: 0.9859\n"
     ]
    },
    {
     "data": {
      "text/plain": [
       "<keras.callbacks.History at 0x23fa8b3ada0>"
      ]
     },
     "execution_count": 24,
     "metadata": {},
     "output_type": "execute_result"
    }
   ],
   "source": [
    "model.fit(document_matrix, labels, epochs=25, validation_split=0.1, verbose=2, batch_size=1024)"
   ]
  },
  {
   "cell_type": "code",
   "execution_count": 25,
   "metadata": {},
   "outputs": [
    {
     "name": "stdout",
     "output_type": "stream",
     "text": [
      "Train on 588088 samples, validate on 65344 samples\n",
      "Epoch 1/25\n",
      " - 34s - loss: 0.0590 - acc: 0.9838 - val_loss: 0.0533 - val_acc: 0.9860\n",
      "Epoch 2/25\n",
      " - 33s - loss: 0.0579 - acc: 0.9840 - val_loss: 0.0527 - val_acc: 0.9862\n",
      "Epoch 3/25\n",
      " - 34s - loss: 0.0562 - acc: 0.9842 - val_loss: 0.0521 - val_acc: 0.9861\n",
      "Epoch 4/25\n",
      " - 34s - loss: 0.0551 - acc: 0.9844 - val_loss: 0.0515 - val_acc: 0.9863\n",
      "Epoch 5/25\n",
      " - 33s - loss: 0.0537 - acc: 0.9847 - val_loss: 0.0512 - val_acc: 0.9865\n",
      "Epoch 6/25\n",
      " - 33s - loss: 0.0527 - acc: 0.9848 - val_loss: 0.0506 - val_acc: 0.9865\n",
      "Epoch 7/25\n",
      " - 33s - loss: 0.0518 - acc: 0.9851 - val_loss: 0.0503 - val_acc: 0.9866\n",
      "Epoch 8/25\n",
      " - 34s - loss: 0.0504 - acc: 0.9853 - val_loss: 0.0500 - val_acc: 0.9868\n",
      "Epoch 9/25\n",
      " - 34s - loss: 0.0498 - acc: 0.9856 - val_loss: 0.0496 - val_acc: 0.9867\n",
      "Epoch 10/25\n",
      " - 34s - loss: 0.0492 - acc: 0.9858 - val_loss: 0.0495 - val_acc: 0.9869\n",
      "Epoch 11/25\n",
      " - 34s - loss: 0.0482 - acc: 0.9861 - val_loss: 0.0488 - val_acc: 0.9869\n",
      "Epoch 12/25\n",
      " - 33s - loss: 0.0472 - acc: 0.9864 - val_loss: 0.0488 - val_acc: 0.9870\n",
      "Epoch 13/25\n",
      " - 33s - loss: 0.0464 - acc: 0.9867 - val_loss: 0.0485 - val_acc: 0.9869\n",
      "Epoch 14/25\n",
      " - 34s - loss: 0.0460 - acc: 0.9871 - val_loss: 0.0483 - val_acc: 0.9870\n",
      "Epoch 15/25\n",
      " - 33s - loss: 0.0451 - acc: 0.9877 - val_loss: 0.0482 - val_acc: 0.9871\n",
      "Epoch 16/25\n",
      " - 33s - loss: 0.0443 - acc: 0.9881 - val_loss: 0.0479 - val_acc: 0.9871\n",
      "Epoch 17/25\n",
      " - 33s - loss: 0.0439 - acc: 0.9882 - val_loss: 0.0480 - val_acc: 0.9871\n",
      "Epoch 18/25\n",
      " - 33s - loss: 0.0432 - acc: 0.9883 - val_loss: 0.0475 - val_acc: 0.9873\n",
      "Epoch 19/25\n",
      " - 33s - loss: 0.0429 - acc: 0.9886 - val_loss: 0.0475 - val_acc: 0.9873\n",
      "Epoch 20/25\n",
      " - 33s - loss: 0.0422 - acc: 0.9888 - val_loss: 0.0476 - val_acc: 0.9870\n",
      "Epoch 21/25\n",
      " - 34s - loss: 0.0415 - acc: 0.9889 - val_loss: 0.0472 - val_acc: 0.9872\n",
      "Epoch 22/25\n",
      " - 33s - loss: 0.0410 - acc: 0.9893 - val_loss: 0.0468 - val_acc: 0.9874\n",
      "Epoch 23/25\n",
      " - 33s - loss: 0.0406 - acc: 0.9892 - val_loss: 0.0472 - val_acc: 0.9873\n",
      "Epoch 24/25\n",
      " - 34s - loss: 0.0400 - acc: 0.9895 - val_loss: 0.0468 - val_acc: 0.9876\n",
      "Epoch 25/25\n",
      " - 33s - loss: 0.0392 - acc: 0.9897 - val_loss: 0.0466 - val_acc: 0.9874\n"
     ]
    },
    {
     "data": {
      "text/plain": [
       "<keras.callbacks.History at 0x23fa8b79c88>"
      ]
     },
     "execution_count": 25,
     "metadata": {},
     "output_type": "execute_result"
    }
   ],
   "source": [
    "model.fit(document_matrix, labels, epochs=25, validation_split=0.1, verbose=2, batch_size=1024)"
   ]
  },
  {
   "cell_type": "code",
   "execution_count": 26,
   "metadata": {},
   "outputs": [
    {
     "name": "stdout",
     "output_type": "stream",
     "text": [
      "Train on 588088 samples, validate on 65344 samples\n",
      "Epoch 1/25\n",
      " - 34s - loss: 0.0389 - acc: 0.9898 - val_loss: 0.0467 - val_acc: 0.9875\n",
      "Epoch 2/25\n",
      " - 34s - loss: 0.0381 - acc: 0.9899 - val_loss: 0.0467 - val_acc: 0.9874\n",
      "Epoch 3/25\n",
      " - 34s - loss: 0.0377 - acc: 0.9901 - val_loss: 0.0467 - val_acc: 0.9875\n",
      "Epoch 4/25\n",
      " - 34s - loss: 0.0373 - acc: 0.9903 - val_loss: 0.0466 - val_acc: 0.9875\n",
      "Epoch 5/25\n",
      " - 33s - loss: 0.0370 - acc: 0.9902 - val_loss: 0.0463 - val_acc: 0.9875\n",
      "Epoch 6/25\n",
      " - 33s - loss: 0.0364 - acc: 0.9906 - val_loss: 0.0460 - val_acc: 0.9878\n",
      "Epoch 7/25\n",
      " - 33s - loss: 0.0360 - acc: 0.9906 - val_loss: 0.0461 - val_acc: 0.9876\n",
      "Epoch 8/25\n",
      " - 33s - loss: 0.0355 - acc: 0.9908 - val_loss: 0.0461 - val_acc: 0.9876\n",
      "Epoch 9/25\n",
      " - 33s - loss: 0.0352 - acc: 0.9909 - val_loss: 0.0461 - val_acc: 0.9876\n",
      "Epoch 10/25\n",
      " - 33s - loss: 0.0350 - acc: 0.9909 - val_loss: 0.0460 - val_acc: 0.9876\n",
      "Epoch 11/25\n",
      " - 33s - loss: 0.0344 - acc: 0.9912 - val_loss: 0.0461 - val_acc: 0.9875\n",
      "Epoch 12/25\n",
      " - 33s - loss: 0.0340 - acc: 0.9913 - val_loss: 0.0459 - val_acc: 0.9875\n",
      "Epoch 13/25\n",
      " - 33s - loss: 0.0335 - acc: 0.9915 - val_loss: 0.0458 - val_acc: 0.9876\n",
      "Epoch 14/25\n",
      " - 33s - loss: 0.0335 - acc: 0.9914 - val_loss: 0.0459 - val_acc: 0.9875\n",
      "Epoch 15/25\n",
      " - 34s - loss: 0.0329 - acc: 0.9914 - val_loss: 0.0455 - val_acc: 0.9876\n",
      "Epoch 16/25\n",
      " - 33s - loss: 0.0325 - acc: 0.9917 - val_loss: 0.0457 - val_acc: 0.9876\n",
      "Epoch 17/25\n",
      " - 33s - loss: 0.0323 - acc: 0.9918 - val_loss: 0.0457 - val_acc: 0.9876\n",
      "Epoch 18/25\n",
      " - 33s - loss: 0.0321 - acc: 0.9919 - val_loss: 0.0456 - val_acc: 0.9875\n",
      "Epoch 19/25\n",
      " - 33s - loss: 0.0316 - acc: 0.9920 - val_loss: 0.0456 - val_acc: 0.9877\n",
      "Epoch 20/25\n",
      " - 33s - loss: 0.0311 - acc: 0.9922 - val_loss: 0.0454 - val_acc: 0.9876\n",
      "Epoch 21/25\n",
      " - 33s - loss: 0.0307 - acc: 0.9923 - val_loss: 0.0457 - val_acc: 0.9876\n",
      "Epoch 22/25\n",
      " - 33s - loss: 0.0307 - acc: 0.9922 - val_loss: 0.0454 - val_acc: 0.9878\n",
      "Epoch 23/25\n",
      " - 33s - loss: 0.0305 - acc: 0.9924 - val_loss: 0.0454 - val_acc: 0.9878\n",
      "Epoch 24/25\n",
      " - 33s - loss: 0.0299 - acc: 0.9926 - val_loss: 0.0454 - val_acc: 0.9879\n",
      "Epoch 25/25\n",
      " - 33s - loss: 0.0300 - acc: 0.9925 - val_loss: 0.0452 - val_acc: 0.9878\n"
     ]
    },
    {
     "data": {
      "text/plain": [
       "<keras.callbacks.History at 0x23faaca9898>"
      ]
     },
     "execution_count": 26,
     "metadata": {},
     "output_type": "execute_result"
    }
   ],
   "source": [
    "model.fit(document_matrix, labels, epochs=25, validation_split=0.1, verbose=2, batch_size=1024)"
   ]
  },
  {
   "cell_type": "code",
   "execution_count": 27,
   "metadata": {
    "collapsed": true
   },
   "outputs": [],
   "source": [
    "model.save(os.path.join(MODELS_PATH,'ffn_sample_model.h5'))"
   ]
  }
 ],
 "metadata": {
  "kernelspec": {
   "display_name": "Python 3",
   "language": "python",
   "name": "python3"
  },
  "language_info": {
   "codemirror_mode": {
    "name": "ipython",
    "version": 3
   },
   "file_extension": ".py",
   "mimetype": "text/x-python",
   "name": "python",
   "nbconvert_exporter": "python",
   "pygments_lexer": "ipython3",
   "version": "3.6.3"
  }
 },
 "nbformat": 4,
 "nbformat_minor": 2
}
