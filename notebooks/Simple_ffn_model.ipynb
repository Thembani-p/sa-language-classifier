{
 "cells": [
  {
   "cell_type": "markdown",
   "metadata": {},
   "source": [
    "# A simple feed forward model\n",
    "\n",
    "```\n",
    "\n",
    "\n",
    "\n",
    "\n",
    "```\n",
    "- [Read data](#Read-data)\n",
    "- [Prepare data](#Prepare-data)\n",
    "- [Create and train model](#Create-and-train-model)\n",
    "- [Test on unseen data](#Test-on-unseen-data)"
   ]
  },
  {
   "cell_type": "code",
   "execution_count": 1,
   "metadata": {
    "collapsed": true
   },
   "outputs": [],
   "source": [
    "import os\n",
    "import sys\n",
    "import json\n",
    "import pickle\n",
    "\n",
    "import numpy as np\n",
    "import pandas as pd\n",
    "\n",
    "from sklearn.model_selection import train_test_split"
   ]
  },
  {
   "cell_type": "code",
   "execution_count": 2,
   "metadata": {},
   "outputs": [
    {
     "name": "stderr",
     "output_type": "stream",
     "text": [
      "Using TensorFlow backend.\n"
     ]
    }
   ],
   "source": [
    "MODULES_PATH = '../modules'\n",
    "MODELS_PATH = '../models'\n",
    "DATA_PATH = '../data'\n",
    "\n",
    "sys.path.append(MODULES_PATH)\n",
    "from data import flatten_data, prepare_training_data, prepare_test_data\n",
    "from models import simple_ffn"
   ]
  },
  {
   "cell_type": "markdown",
   "metadata": {},
   "source": [
    "## Read data"
   ]
  },
  {
   "cell_type": "code",
   "execution_count": 3,
   "metadata": {
    "collapsed": true
   },
   "outputs": [],
   "source": [
    "with open(os.path.join(DATA_PATH,'single_corpora.json'),'r') as datafile:\n",
    "    single_corpora = json.load(datafile)"
   ]
  },
  {
   "cell_type": "code",
   "execution_count": 4,
   "metadata": {},
   "outputs": [
    {
     "data": {
      "text/plain": [
       "[38238, 478811, 75634, 69254, 49012, 38206, 40485, 32279, 58398]"
      ]
     },
     "execution_count": 4,
     "metadata": {},
     "output_type": "execute_result"
    }
   ],
   "source": [
    "# document class balance\n",
    "[len(i) for i in single_corpora]"
   ]
  },
  {
   "cell_type": "markdown",
   "metadata": {},
   "source": [
    "## Prepare data"
   ]
  },
  {
   "cell_type": "code",
   "execution_count": 5,
   "metadata": {
    "collapsed": true
   },
   "outputs": [],
   "source": [
    "flat_corpora, flat_labels = flatten_data(single_corpora[5:9])"
   ]
  },
  {
   "cell_type": "code",
   "execution_count": 6,
   "metadata": {
    "collapsed": true
   },
   "outputs": [],
   "source": [
    "corpora_train, corpora_test, labels_train, labels_test = train_test_split(\n",
    "                                                        flat_corpora,\n",
    "                                                        flat_labels,\n",
    "                                                        test_size=0.75,\n",
    "                                                        random_state=123)"
   ]
  },
  {
   "cell_type": "code",
   "execution_count": 7,
   "metadata": {
    "collapsed": true
   },
   "outputs": [],
   "source": [
    "document_matrix, labels, pipeline_instance = prepare_training_data(corpora_train, labels_train)"
   ]
  },
  {
   "cell_type": "code",
   "execution_count": 8,
   "metadata": {
    "scrolled": true
   },
   "outputs": [
    {
     "data": {
      "text/plain": [
       "((42254, 1511), (42254, 4), Pipeline(memory=None,\n",
       "      steps=[('vect', CountVectorizer(analyzer='char', binary=False, decode_error='strict',\n",
       "         dtype=<class 'numpy.int64'>, encoding='utf-8', input='content',\n",
       "         lowercase=True, max_df=1.0, max_features=None, min_df=1,\n",
       "         ngram_range=(2, 2), preprocessor=None, stop_words=None,\n",
       "         strip_accents=None, token_pattern='(?u)\\\\b\\\\w\\\\w+\\\\b',\n",
       "         tokenizer=None, vocabulary=None)), ('tfidf', TfidfTransformer(norm='l2', smooth_idf=True, sublinear_tf=False, use_idf=True))]))"
      ]
     },
     "execution_count": 8,
     "metadata": {},
     "output_type": "execute_result"
    }
   ],
   "source": [
    "document_matrix.shape, labels.shape, pipeline_instance"
   ]
  },
  {
   "cell_type": "code",
   "execution_count": 14,
   "metadata": {
    "collapsed": true
   },
   "outputs": [],
   "source": [
    "with open(os.path.join(DATA_PATH, 'pipeline_instance.pickle'),'wb') as datafile:\n",
    "        pickle.dump(pipeline_instance, datafile)"
   ]
  },
  {
   "cell_type": "markdown",
   "metadata": {},
   "source": [
    "## Create and train model"
   ]
  },
  {
   "cell_type": "code",
   "execution_count": 10,
   "metadata": {
    "scrolled": false
   },
   "outputs": [
    {
     "name": "stdout",
     "output_type": "stream",
     "text": [
      "__________________________________________________________________________________________________\n",
      "Layer (type)                    Output Shape         Param #     Connected to                     \n",
      "==================================================================================================\n",
      "input_1 (InputLayer)            (None, 1511)         0                                            \n",
      "__________________________________________________________________________________________________\n",
      "dense_1 (Dense)                 (None, 128)          193536      input_1[0][0]                    \n",
      "__________________________________________________________________________________________________\n",
      "activation_1 (Activation)       (None, 128)          0           dense_1[0][0]                    \n",
      "__________________________________________________________________________________________________\n",
      "dropout_1 (Dropout)             (None, 128)          0           activation_1[0][0]               \n",
      "__________________________________________________________________________________________________\n",
      "batch_normalization_1 (BatchNor (None, 128)          512         dropout_1[0][0]                  \n",
      "__________________________________________________________________________________________________\n",
      "attention_probs (Dense)         (None, 128)          16512       batch_normalization_1[0][0]      \n",
      "__________________________________________________________________________________________________\n",
      "attention_mul (Multiply)        (None, 128)          0           batch_normalization_1[0][0]      \n",
      "                                                                 attention_probs[0][0]            \n",
      "__________________________________________________________________________________________________\n",
      "dense_2 (Dense)                 (None, 4)            516         attention_mul[0][0]              \n",
      "__________________________________________________________________________________________________\n",
      "activation_2 (Activation)       (None, 4)            0           dense_2[0][0]                    \n",
      "==================================================================================================\n",
      "Total params: 211,076\n",
      "Trainable params: 210,820\n",
      "Non-trainable params: 256\n",
      "__________________________________________________________________________________________________\n"
     ]
    }
   ],
   "source": [
    "model = simple_ffn(document_matrix, labels)\n",
    "model.summary()"
   ]
  },
  {
   "cell_type": "code",
   "execution_count": 11,
   "metadata": {
    "scrolled": true
   },
   "outputs": [
    {
     "name": "stdout",
     "output_type": "stream",
     "text": [
      "Train on 38028 samples, validate on 4226 samples\n",
      "Epoch 1/100\n",
      "38028/38028 [==============================] - 9s 234us/step - loss: 1.1953 - acc: 0.8495 - val_loss: 0.9144 - val_acc: 0.9664\n",
      "Epoch 2/100\n",
      "38028/38028 [==============================] - 8s 209us/step - loss: 0.8546 - acc: 0.8447 - val_loss: 0.7074 - val_acc: 0.9752\n",
      "Epoch 3/100\n",
      "38028/38028 [==============================] - 10s 266us/step - loss: 0.6927 - acc: 0.8577 - val_loss: 0.5553 - val_acc: 0.9813\n",
      "Epoch 4/100\n",
      "38028/38028 [==============================] - 10s 259us/step - loss: 0.5754 - acc: 0.8679 - val_loss: 0.4314 - val_acc: 0.9875\n",
      "Epoch 5/100\n",
      "38028/38028 [==============================] - 10s 257us/step - loss: 0.4821 - acc: 0.8780 - val_loss: 0.3332 - val_acc: 0.9912\n",
      "Epoch 6/100\n",
      "38028/38028 [==============================] - 9s 240us/step - loss: 0.4109 - acc: 0.8845 - val_loss: 0.2579 - val_acc: 0.9915\n",
      "Epoch 7/100\n",
      "38028/38028 [==============================] - 9s 233us/step - loss: 0.3515 - acc: 0.8922 - val_loss: 0.2045 - val_acc: 0.9929\n",
      "Epoch 8/100\n",
      "38028/38028 [==============================] - 8s 206us/step - loss: 0.3043 - acc: 0.9005 - val_loss: 0.1610 - val_acc: 0.9931\n",
      "Epoch 9/100\n",
      "38028/38028 [==============================] - 8s 205us/step - loss: 0.2598 - acc: 0.9094 - val_loss: 0.1285 - val_acc: 0.9936\n",
      "Epoch 10/100\n",
      "38028/38028 [==============================] - 8s 217us/step - loss: 0.2267 - acc: 0.9134 - val_loss: 0.1019 - val_acc: 0.9941\n",
      "Epoch 11/100\n",
      "38028/38028 [==============================] - 8s 210us/step - loss: 0.2027 - acc: 0.9175 - val_loss: 0.0855 - val_acc: 0.9948\n",
      "Epoch 12/100\n",
      "38028/38028 [==============================] - 8s 216us/step - loss: 0.1814 - acc: 0.9261 - val_loss: 0.0691 - val_acc: 0.9948\n",
      "Epoch 13/100\n",
      "38028/38028 [==============================] - 8s 209us/step - loss: 0.1659 - acc: 0.9383 - val_loss: 0.0590 - val_acc: 0.9957\n",
      "Epoch 14/100\n",
      "38028/38028 [==============================] - 8s 217us/step - loss: 0.1497 - acc: 0.9558 - val_loss: 0.0519 - val_acc: 0.9950\n",
      "Epoch 15/100\n",
      "38028/38028 [==============================] - 8s 212us/step - loss: 0.1374 - acc: 0.9687 - val_loss: 0.0462 - val_acc: 0.9950\n",
      "Epoch 16/100\n",
      "38028/38028 [==============================] - 8s 211us/step - loss: 0.1264 - acc: 0.9779 - val_loss: 0.0428 - val_acc: 0.9950\n",
      "Epoch 17/100\n",
      "38028/38028 [==============================] - 9s 225us/step - loss: 0.1155 - acc: 0.9813 - val_loss: 0.0385 - val_acc: 0.9953\n",
      "Epoch 18/100\n",
      "38028/38028 [==============================] - 9s 231us/step - loss: 0.1045 - acc: 0.9844 - val_loss: 0.0368 - val_acc: 0.9953\n",
      "Epoch 19/100\n",
      "38028/38028 [==============================] - 10s 258us/step - loss: 0.0919 - acc: 0.9852 - val_loss: 0.0354 - val_acc: 0.9957\n",
      "Epoch 20/100\n",
      "38028/38028 [==============================] - 9s 226us/step - loss: 0.0839 - acc: 0.9858 - val_loss: 0.0319 - val_acc: 0.9957\n",
      "Epoch 21/100\n",
      "38028/38028 [==============================] - 8s 219us/step - loss: 0.0743 - acc: 0.9861 - val_loss: 0.0315 - val_acc: 0.9955\n",
      "Epoch 22/100\n",
      "38028/38028 [==============================] - 8s 216us/step - loss: 0.0688 - acc: 0.9861 - val_loss: 0.0296 - val_acc: 0.9960\n",
      "Epoch 23/100\n",
      "38028/38028 [==============================] - 10s 253us/step - loss: 0.0598 - acc: 0.9875 - val_loss: 0.0273 - val_acc: 0.9960\n",
      "Epoch 24/100\n",
      "38028/38028 [==============================] - 10s 273us/step - loss: 0.0539 - acc: 0.9885 - val_loss: 0.0260 - val_acc: 0.9965\n",
      "Epoch 25/100\n",
      "38028/38028 [==============================] - 8s 209us/step - loss: 0.0494 - acc: 0.9891 - val_loss: 0.0254 - val_acc: 0.9955\n",
      "Epoch 26/100\n",
      "38028/38028 [==============================] - 8s 205us/step - loss: 0.0449 - acc: 0.9904 - val_loss: 0.0247 - val_acc: 0.9955\n",
      "Epoch 27/100\n",
      "38028/38028 [==============================] - 7s 177us/step - loss: 0.0386 - acc: 0.9918 - val_loss: 0.0231 - val_acc: 0.9955\n",
      "Epoch 28/100\n",
      "38028/38028 [==============================] - 7s 178us/step - loss: 0.0376 - acc: 0.9930 - val_loss: 0.0227 - val_acc: 0.9957\n",
      "Epoch 29/100\n",
      "38028/38028 [==============================] - 7s 193us/step - loss: 0.0321 - acc: 0.9944 - val_loss: 0.0225 - val_acc: 0.9955\n",
      "Epoch 30/100\n",
      "38028/38028 [==============================] - 7s 179us/step - loss: 0.0290 - acc: 0.9961 - val_loss: 0.0218 - val_acc: 0.9953\n",
      "Epoch 31/100\n",
      "38028/38028 [==============================] - 8s 215us/step - loss: 0.0278 - acc: 0.9962 - val_loss: 0.0200 - val_acc: 0.9957\n",
      "Epoch 32/100\n",
      "38028/38028 [==============================] - 9s 247us/step - loss: 0.0259 - acc: 0.9964 - val_loss: 0.0208 - val_acc: 0.9957\n",
      "Epoch 33/100\n",
      "38028/38028 [==============================] - 9s 240us/step - loss: 0.0227 - acc: 0.9971 - val_loss: 0.0206 - val_acc: 0.9953\n",
      "Epoch 34/100\n",
      "38028/38028 [==============================] - 10s 252us/step - loss: 0.0206 - acc: 0.9980 - val_loss: 0.0203 - val_acc: 0.9953\n",
      "Epoch 35/100\n",
      "38028/38028 [==============================] - 9s 239us/step - loss: 0.0191 - acc: 0.9977 - val_loss: 0.0201 - val_acc: 0.9953\n",
      "Epoch 36/100\n",
      "38028/38028 [==============================] - 7s 196us/step - loss: 0.0179 - acc: 0.9979 - val_loss: 0.0202 - val_acc: 0.9960\n",
      "Epoch 37/100\n",
      "38028/38028 [==============================] - 7s 194us/step - loss: 0.0160 - acc: 0.9980 - val_loss: 0.0201 - val_acc: 0.9962\n",
      "Epoch 38/100\n",
      "38028/38028 [==============================] - 8s 205us/step - loss: 0.0139 - acc: 0.9983 - val_loss: 0.0200 - val_acc: 0.9960\n",
      "Epoch 39/100\n",
      "38028/38028 [==============================] - 8s 206us/step - loss: 0.0139 - acc: 0.9982 - val_loss: 0.0221 - val_acc: 0.9955\n",
      "Epoch 40/100\n",
      "38028/38028 [==============================] - 7s 195us/step - loss: 0.0127 - acc: 0.9983 - val_loss: 0.0210 - val_acc: 0.9957\n",
      "Epoch 41/100\n",
      "38028/38028 [==============================] - 8s 200us/step - loss: 0.0113 - acc: 0.9984 - val_loss: 0.0204 - val_acc: 0.9960\n",
      "Epoch 42/100\n",
      "38028/38028 [==============================] - 8s 214us/step - loss: 0.0104 - acc: 0.9985 - val_loss: 0.0207 - val_acc: 0.9950\n",
      "Epoch 43/100\n",
      "38028/38028 [==============================] - 8s 212us/step - loss: 0.0094 - acc: 0.9985 - val_loss: 0.0202 - val_acc: 0.9957\n",
      "Epoch 44/100\n",
      "38028/38028 [==============================] - 7s 196us/step - loss: 0.0095 - acc: 0.9984 - val_loss: 0.0208 - val_acc: 0.9955\n",
      "Epoch 45/100\n",
      "38028/38028 [==============================] - 7s 179us/step - loss: 0.0097 - acc: 0.9985 - val_loss: 0.0207 - val_acc: 0.9955\n",
      "Epoch 46/100\n",
      "38028/38028 [==============================] - 7s 182us/step - loss: 0.0080 - acc: 0.9990 - val_loss: 0.0208 - val_acc: 0.9957\n",
      "Epoch 47/100\n",
      "38028/38028 [==============================] - 7s 180us/step - loss: 0.0086 - acc: 0.9984 - val_loss: 0.0230 - val_acc: 0.9955\n",
      "Epoch 48/100\n",
      "38028/38028 [==============================] - 7s 186us/step - loss: 0.0074 - acc: 0.9988 - val_loss: 0.0227 - val_acc: 0.9953\n",
      "Epoch 49/100\n",
      "38028/38028 [==============================] - 7s 189us/step - loss: 0.0070 - acc: 0.9988 - val_loss: 0.0222 - val_acc: 0.9957\n",
      "Epoch 50/100\n",
      "38028/38028 [==============================] - 7s 189us/step - loss: 0.0061 - acc: 0.9991 - val_loss: 0.0225 - val_acc: 0.9955\n",
      "Epoch 51/100\n",
      "38028/38028 [==============================] - 7s 184us/step - loss: 0.0067 - acc: 0.9990 - val_loss: 0.0236 - val_acc: 0.9953\n",
      "Epoch 52/100\n",
      "38028/38028 [==============================] - 7s 179us/step - loss: 0.0064 - acc: 0.9992 - val_loss: 0.0248 - val_acc: 0.9950\n",
      "Epoch 53/100\n",
      "38028/38028 [==============================] - 7s 184us/step - loss: 0.0057 - acc: 0.9990 - val_loss: 0.0244 - val_acc: 0.9946\n",
      "Epoch 54/100\n",
      "38028/38028 [==============================] - 7s 182us/step - loss: 0.0053 - acc: 0.9992 - val_loss: 0.0251 - val_acc: 0.9943\n",
      "Epoch 55/100\n",
      "38028/38028 [==============================] - 7s 181us/step - loss: 0.0048 - acc: 0.9992 - val_loss: 0.0235 - val_acc: 0.9950\n",
      "Epoch 56/100\n",
      "38028/38028 [==============================] - 7s 193us/step - loss: 0.0053 - acc: 0.9993 - val_loss: 0.0242 - val_acc: 0.9946\n",
      "Epoch 57/100\n",
      "38028/38028 [==============================] - 7s 194us/step - loss: 0.0046 - acc: 0.9991 - val_loss: 0.0246 - val_acc: 0.9948\n",
      "Epoch 58/100\n",
      "38028/38028 [==============================] - 7s 183us/step - loss: 0.0042 - acc: 0.9994 - val_loss: 0.0245 - val_acc: 0.9950\n",
      "Epoch 59/100\n",
      "38028/38028 [==============================] - 7s 183us/step - loss: 0.0043 - acc: 0.9993 - val_loss: 0.0240 - val_acc: 0.9955\n",
      "Epoch 60/100\n",
      "38028/38028 [==============================] - 7s 179us/step - loss: 0.0038 - acc: 0.9994 - val_loss: 0.0254 - val_acc: 0.9953\n",
      "Epoch 61/100\n",
      "38028/38028 [==============================] - 7s 184us/step - loss: 0.0039 - acc: 0.9994 - val_loss: 0.0259 - val_acc: 0.9953\n",
      "Epoch 62/100\n",
      "38028/38028 [==============================] - 7s 179us/step - loss: 0.0036 - acc: 0.9994 - val_loss: 0.0264 - val_acc: 0.9948\n",
      "Epoch 63/100\n",
      "38028/38028 [==============================] - 7s 186us/step - loss: 0.0035 - acc: 0.9994 - val_loss: 0.0253 - val_acc: 0.9948\n",
      "Epoch 64/100\n",
      "38028/38028 [==============================] - 7s 186us/step - loss: 0.0033 - acc: 0.9994 - val_loss: 0.0274 - val_acc: 0.9948\n",
      "Epoch 65/100\n",
      "38028/38028 [==============================] - 8s 199us/step - loss: 0.0037 - acc: 0.9992 - val_loss: 0.0267 - val_acc: 0.9948\n",
      "Epoch 66/100\n",
      "38028/38028 [==============================] - 8s 222us/step - loss: 0.0035 - acc: 0.9993 - val_loss: 0.0263 - val_acc: 0.9946\n",
      "Epoch 67/100\n",
      "38028/38028 [==============================] - 8s 200us/step - loss: 0.0028 - acc: 0.9995 - val_loss: 0.0277 - val_acc: 0.9950\n",
      "Epoch 68/100\n",
      "38028/38028 [==============================] - 8s 202us/step - loss: 0.0027 - acc: 0.9996 - val_loss: 0.0280 - val_acc: 0.9948\n",
      "Epoch 69/100\n",
      "38028/38028 [==============================] - 7s 189us/step - loss: 0.0029 - acc: 0.9994 - val_loss: 0.0270 - val_acc: 0.9950\n",
      "Epoch 70/100\n",
      "38028/38028 [==============================] - 7s 178us/step - loss: 0.0027 - acc: 0.9994 - val_loss: 0.0262 - val_acc: 0.9943\n",
      "Epoch 71/100\n",
      "38028/38028 [==============================] - 7s 195us/step - loss: 0.0025 - acc: 0.9994 - val_loss: 0.0255 - val_acc: 0.9950\n",
      "Epoch 72/100\n",
      "38028/38028 [==============================] - 7s 197us/step - loss: 0.0022 - acc: 0.9996 - val_loss: 0.0268 - val_acc: 0.9948\n",
      "Epoch 73/100\n",
      "38028/38028 [==============================] - 8s 206us/step - loss: 0.0021 - acc: 0.9995 - val_loss: 0.0263 - val_acc: 0.9948\n",
      "Epoch 74/100\n",
      "38028/38028 [==============================] - 7s 192us/step - loss: 0.0025 - acc: 0.9995 - val_loss: 0.0268 - val_acc: 0.9955\n",
      "Epoch 75/100\n",
      "38028/38028 [==============================] - 7s 195us/step - loss: 0.0022 - acc: 0.9995 - val_loss: 0.0247 - val_acc: 0.9953\n",
      "Epoch 76/100\n",
      "38028/38028 [==============================] - 7s 179us/step - loss: 0.0018 - acc: 0.9995 - val_loss: 0.0253 - val_acc: 0.9950\n",
      "Epoch 77/100\n",
      "38028/38028 [==============================] - 7s 186us/step - loss: 0.0022 - acc: 0.9995 - val_loss: 0.0257 - val_acc: 0.9953\n",
      "Epoch 78/100\n",
      "38028/38028 [==============================] - 7s 189us/step - loss: 0.0022 - acc: 0.9994 - val_loss: 0.0258 - val_acc: 0.9955\n",
      "Epoch 79/100\n",
      "38028/38028 [==============================] - 8s 201us/step - loss: 0.0022 - acc: 0.9995 - val_loss: 0.0240 - val_acc: 0.9957\n",
      "Epoch 80/100\n",
      "38028/38028 [==============================] - 7s 181us/step - loss: 0.0018 - acc: 0.9998 - val_loss: 0.0242 - val_acc: 0.9950\n",
      "Epoch 81/100\n",
      "38028/38028 [==============================] - 7s 179us/step - loss: 0.0017 - acc: 0.9997 - val_loss: 0.0244 - val_acc: 0.9953\n",
      "Epoch 82/100\n",
      "38028/38028 [==============================] - 7s 189us/step - loss: 0.0012 - acc: 0.9997 - val_loss: 0.0250 - val_acc: 0.9953\n",
      "Epoch 83/100\n",
      "38028/38028 [==============================] - 7s 196us/step - loss: 0.0015 - acc: 0.9997 - val_loss: 0.0242 - val_acc: 0.9953\n",
      "Epoch 84/100\n",
      "38028/38028 [==============================] - 7s 182us/step - loss: 0.0019 - acc: 0.9996 - val_loss: 0.0256 - val_acc: 0.9953\n",
      "Epoch 85/100\n",
      "38028/38028 [==============================] - 7s 180us/step - loss: 0.0014 - acc: 0.9997 - val_loss: 0.0254 - val_acc: 0.9955\n",
      "Epoch 86/100\n",
      "38028/38028 [==============================] - 7s 182us/step - loss: 0.0017 - acc: 0.9996 - val_loss: 0.0248 - val_acc: 0.9957\n",
      "Epoch 87/100\n",
      "38028/38028 [==============================] - 7s 181us/step - loss: 0.0016 - acc: 0.9997 - val_loss: 0.0270 - val_acc: 0.9953\n",
      "Epoch 88/100\n",
      "38028/38028 [==============================] - 8s 207us/step - loss: 0.0013 - acc: 0.9997 - val_loss: 0.0274 - val_acc: 0.9950\n",
      "Epoch 89/100\n",
      "38028/38028 [==============================] - 9s 226us/step - loss: 0.0012 - acc: 0.9997 - val_loss: 0.0273 - val_acc: 0.9957\n",
      "Epoch 90/100\n",
      "38028/38028 [==============================] - 8s 218us/step - loss: 0.0013 - acc: 0.9997 - val_loss: 0.0278 - val_acc: 0.9955\n",
      "Epoch 91/100\n",
      "38028/38028 [==============================] - 7s 179us/step - loss: 0.0018 - acc: 0.9995 - val_loss: 0.0273 - val_acc: 0.9957\n",
      "Epoch 92/100\n",
      "38028/38028 [==============================] - 7s 180us/step - loss: 0.0014 - acc: 0.9997 - val_loss: 0.0282 - val_acc: 0.9960\n",
      "Epoch 93/100\n",
      "38028/38028 [==============================] - 7s 194us/step - loss: 0.0012 - acc: 0.9997 - val_loss: 0.0278 - val_acc: 0.9960\n",
      "Epoch 94/100\n",
      "38028/38028 [==============================] - 7s 182us/step - loss: 0.0014 - acc: 0.9997 - val_loss: 0.0273 - val_acc: 0.9960\n",
      "Epoch 95/100\n",
      "38028/38028 [==============================] - 7s 179us/step - loss: 0.0010 - acc: 0.9997 - val_loss: 0.0279 - val_acc: 0.9960\n",
      "Epoch 96/100\n",
      "38028/38028 [==============================] - 7s 188us/step - loss: 0.0015 - acc: 0.9997 - val_loss: 0.0277 - val_acc: 0.9960\n",
      "Epoch 97/100\n",
      "38028/38028 [==============================] - 7s 186us/step - loss: 0.0010 - acc: 0.9998 - val_loss: 0.0258 - val_acc: 0.9960\n",
      "Epoch 98/100\n",
      "38028/38028 [==============================] - 8s 206us/step - loss: 9.4775e-04 - acc: 0.9998 - val_loss: 0.0278 - val_acc: 0.9960\n",
      "Epoch 99/100\n",
      "38028/38028 [==============================] - 9s 236us/step - loss: 7.7179e-04 - acc: 0.9998 - val_loss: 0.0274 - val_acc: 0.9960\n",
      "Epoch 100/100\n",
      "38028/38028 [==============================] - 8s 205us/step - loss: 0.0011 - acc: 0.9998 - val_loss: 0.0276 - val_acc: 0.9957\n"
     ]
    },
    {
     "data": {
      "text/plain": [
       "<keras.callbacks.History at 0x7fb727dd86d8>"
      ]
     },
     "execution_count": 11,
     "metadata": {},
     "output_type": "execute_result"
    }
   ],
   "source": [
    "model.fit(document_matrix, labels, epochs=100, validation_split=0.1)"
   ]
  },
  {
   "cell_type": "code",
   "execution_count": 15,
   "metadata": {
    "collapsed": true
   },
   "outputs": [],
   "source": [
    "model.save(os.path.join(MODELS_PATH,'ffn_sample_model.h5'))"
   ]
  },
  {
   "cell_type": "markdown",
   "metadata": {},
   "source": [
    "## Test on unseen data "
   ]
  },
  {
   "cell_type": "code",
   "execution_count": 19,
   "metadata": {
    "collapsed": true
   },
   "outputs": [],
   "source": [
    "X_test, y_test = prepare_test_data(corpora_test, labels_test, pipeline_instance)"
   ]
  },
  {
   "cell_type": "code",
   "execution_count": 20,
   "metadata": {},
   "outputs": [
    {
     "data": {
      "text/html": [
       "<div>\n",
       "<style scoped>\n",
       "    .dataframe tbody tr th:only-of-type {\n",
       "        vertical-align: middle;\n",
       "    }\n",
       "\n",
       "    .dataframe tbody tr th {\n",
       "        vertical-align: top;\n",
       "    }\n",
       "\n",
       "    .dataframe thead th {\n",
       "        text-align: right;\n",
       "    }\n",
       "</style>\n",
       "<table border=\"1\" class=\"dataframe\">\n",
       "  <thead>\n",
       "    <tr style=\"text-align: right;\">\n",
       "      <th></th>\n",
       "      <th>%</th>\n",
       "      <th>&amp;</th>\n",
       "      <th>*</th>\n",
       "      <th>+</th>\n",
       "      <th>-</th>\n",
       "      <th>/</th>\n",
       "      <th>0</th>\n",
       "      <th>1</th>\n",
       "      <th>2</th>\n",
       "      <th>3</th>\n",
       "      <th>...</th>\n",
       "      <th>‹i</th>\n",
       "      <th>‹n</th>\n",
       "      <th>‹o</th>\n",
       "      <th>‹u</th>\n",
       "      <th>‹w</th>\n",
       "      <th>‹â</th>\n",
       "      <th>€¢</th>\n",
       "      <th>€š</th>\n",
       "      <th>€”</th>\n",
       "      <th>™t</th>\n",
       "    </tr>\n",
       "  </thead>\n",
       "  <tbody>\n",
       "    <tr>\n",
       "      <th>0</th>\n",
       "      <td>0.0</td>\n",
       "      <td>0.0</td>\n",
       "      <td>0.0</td>\n",
       "      <td>0.0</td>\n",
       "      <td>0.0</td>\n",
       "      <td>0.0</td>\n",
       "      <td>0.0</td>\n",
       "      <td>0.0</td>\n",
       "      <td>0.0</td>\n",
       "      <td>0.0</td>\n",
       "      <td>...</td>\n",
       "      <td>0.0</td>\n",
       "      <td>0.0</td>\n",
       "      <td>0.0</td>\n",
       "      <td>0.0</td>\n",
       "      <td>0.0</td>\n",
       "      <td>0.0</td>\n",
       "      <td>0.0</td>\n",
       "      <td>0.0</td>\n",
       "      <td>0.0</td>\n",
       "      <td>0.0</td>\n",
       "    </tr>\n",
       "    <tr>\n",
       "      <th>1</th>\n",
       "      <td>0.0</td>\n",
       "      <td>0.0</td>\n",
       "      <td>0.0</td>\n",
       "      <td>0.0</td>\n",
       "      <td>0.0</td>\n",
       "      <td>0.0</td>\n",
       "      <td>0.0</td>\n",
       "      <td>0.0</td>\n",
       "      <td>0.0</td>\n",
       "      <td>0.0</td>\n",
       "      <td>...</td>\n",
       "      <td>0.0</td>\n",
       "      <td>0.0</td>\n",
       "      <td>0.0</td>\n",
       "      <td>0.0</td>\n",
       "      <td>0.0</td>\n",
       "      <td>0.0</td>\n",
       "      <td>0.0</td>\n",
       "      <td>0.0</td>\n",
       "      <td>0.0</td>\n",
       "      <td>0.0</td>\n",
       "    </tr>\n",
       "    <tr>\n",
       "      <th>2</th>\n",
       "      <td>0.0</td>\n",
       "      <td>0.0</td>\n",
       "      <td>0.0</td>\n",
       "      <td>0.0</td>\n",
       "      <td>0.0</td>\n",
       "      <td>0.0</td>\n",
       "      <td>0.0</td>\n",
       "      <td>0.0</td>\n",
       "      <td>0.0</td>\n",
       "      <td>0.0</td>\n",
       "      <td>...</td>\n",
       "      <td>0.0</td>\n",
       "      <td>0.0</td>\n",
       "      <td>0.0</td>\n",
       "      <td>0.0</td>\n",
       "      <td>0.0</td>\n",
       "      <td>0.0</td>\n",
       "      <td>0.0</td>\n",
       "      <td>0.0</td>\n",
       "      <td>0.0</td>\n",
       "      <td>0.0</td>\n",
       "    </tr>\n",
       "    <tr>\n",
       "      <th>3</th>\n",
       "      <td>0.0</td>\n",
       "      <td>0.0</td>\n",
       "      <td>0.0</td>\n",
       "      <td>0.0</td>\n",
       "      <td>0.0</td>\n",
       "      <td>0.0</td>\n",
       "      <td>0.0</td>\n",
       "      <td>0.0</td>\n",
       "      <td>0.0</td>\n",
       "      <td>0.0</td>\n",
       "      <td>...</td>\n",
       "      <td>0.0</td>\n",
       "      <td>0.0</td>\n",
       "      <td>0.0</td>\n",
       "      <td>0.0</td>\n",
       "      <td>0.0</td>\n",
       "      <td>0.0</td>\n",
       "      <td>0.0</td>\n",
       "      <td>0.0</td>\n",
       "      <td>0.0</td>\n",
       "      <td>0.0</td>\n",
       "    </tr>\n",
       "    <tr>\n",
       "      <th>4</th>\n",
       "      <td>0.0</td>\n",
       "      <td>0.0</td>\n",
       "      <td>0.0</td>\n",
       "      <td>0.0</td>\n",
       "      <td>0.0</td>\n",
       "      <td>0.0</td>\n",
       "      <td>0.0</td>\n",
       "      <td>0.0</td>\n",
       "      <td>0.0</td>\n",
       "      <td>0.0</td>\n",
       "      <td>...</td>\n",
       "      <td>0.0</td>\n",
       "      <td>0.0</td>\n",
       "      <td>0.0</td>\n",
       "      <td>0.0</td>\n",
       "      <td>0.0</td>\n",
       "      <td>0.0</td>\n",
       "      <td>0.0</td>\n",
       "      <td>0.0</td>\n",
       "      <td>0.0</td>\n",
       "      <td>0.0</td>\n",
       "    </tr>\n",
       "  </tbody>\n",
       "</table>\n",
       "<p>5 rows × 1511 columns</p>\n",
       "</div>"
      ],
      "text/plain": [
       "     %    &    *    +    -    /    0    1    2    3 ...    ‹i   ‹n   ‹o   ‹u  \\\n",
       "0  0.0  0.0  0.0  0.0  0.0  0.0  0.0  0.0  0.0  0.0 ...   0.0  0.0  0.0  0.0   \n",
       "1  0.0  0.0  0.0  0.0  0.0  0.0  0.0  0.0  0.0  0.0 ...   0.0  0.0  0.0  0.0   \n",
       "2  0.0  0.0  0.0  0.0  0.0  0.0  0.0  0.0  0.0  0.0 ...   0.0  0.0  0.0  0.0   \n",
       "3  0.0  0.0  0.0  0.0  0.0  0.0  0.0  0.0  0.0  0.0 ...   0.0  0.0  0.0  0.0   \n",
       "4  0.0  0.0  0.0  0.0  0.0  0.0  0.0  0.0  0.0  0.0 ...   0.0  0.0  0.0  0.0   \n",
       "\n",
       "    ‹w   ‹â   €¢   €š   €”   ™t  \n",
       "0  0.0  0.0  0.0  0.0  0.0  0.0  \n",
       "1  0.0  0.0  0.0  0.0  0.0  0.0  \n",
       "2  0.0  0.0  0.0  0.0  0.0  0.0  \n",
       "3  0.0  0.0  0.0  0.0  0.0  0.0  \n",
       "4  0.0  0.0  0.0  0.0  0.0  0.0  \n",
       "\n",
       "[5 rows x 1511 columns]"
      ]
     },
     "execution_count": 20,
     "metadata": {},
     "output_type": "execute_result"
    }
   ],
   "source": [
    "X_test.head()"
   ]
  },
  {
   "cell_type": "code",
   "execution_count": 32,
   "metadata": {
    "scrolled": false
   },
   "outputs": [
    {
     "data": {
      "text/html": [
       "<div>\n",
       "<style scoped>\n",
       "    .dataframe tbody tr th:only-of-type {\n",
       "        vertical-align: middle;\n",
       "    }\n",
       "\n",
       "    .dataframe tbody tr th {\n",
       "        vertical-align: top;\n",
       "    }\n",
       "\n",
       "    .dataframe thead th {\n",
       "        text-align: right;\n",
       "    }\n",
       "</style>\n",
       "<table border=\"1\" class=\"dataframe\">\n",
       "  <thead>\n",
       "    <tr style=\"text-align: right;\">\n",
       "      <th></th>\n",
       "      <th>nr</th>\n",
       "      <th>xh</th>\n",
       "      <th>zu</th>\n",
       "    </tr>\n",
       "  </thead>\n",
       "  <tbody>\n",
       "    <tr>\n",
       "      <th>0</th>\n",
       "      <td>1</td>\n",
       "      <td>0</td>\n",
       "      <td>0</td>\n",
       "    </tr>\n",
       "    <tr>\n",
       "      <th>1</th>\n",
       "      <td>0</td>\n",
       "      <td>1</td>\n",
       "      <td>0</td>\n",
       "    </tr>\n",
       "    <tr>\n",
       "      <th>2</th>\n",
       "      <td>0</td>\n",
       "      <td>1</td>\n",
       "      <td>0</td>\n",
       "    </tr>\n",
       "    <tr>\n",
       "      <th>3</th>\n",
       "      <td>1</td>\n",
       "      <td>0</td>\n",
       "      <td>0</td>\n",
       "    </tr>\n",
       "    <tr>\n",
       "      <th>4</th>\n",
       "      <td>0</td>\n",
       "      <td>0</td>\n",
       "      <td>1</td>\n",
       "    </tr>\n",
       "  </tbody>\n",
       "</table>\n",
       "</div>"
      ],
      "text/plain": [
       "   nr  xh  zu\n",
       "0   1   0   0\n",
       "1   0   1   0\n",
       "2   0   1   0\n",
       "3   1   0   0\n",
       "4   0   0   1"
      ]
     },
     "execution_count": 32,
     "metadata": {},
     "output_type": "execute_result"
    }
   ],
   "source": [
    "y_test.head()"
   ]
  },
  {
   "cell_type": "code",
   "execution_count": 33,
   "metadata": {},
   "outputs": [
    {
     "name": "stdout",
     "output_type": "stream",
     "text": [
      "48472/48472 [==============================] - 2s 47us/step\n"
     ]
    }
   ],
   "source": [
    "score, accuracy = model.evaluate(X_test, y_test)"
   ]
  },
  {
   "cell_type": "code",
   "execution_count": 35,
   "metadata": {
    "scrolled": true
   },
   "outputs": [
    {
     "name": "stdout",
     "output_type": "stream",
     "text": [
      "Model test accuracy 0.9867\n"
     ]
    }
   ],
   "source": [
    "print('Model test accuracy', accuracy.round(4))"
   ]
  }
 ],
 "metadata": {
  "kernelspec": {
   "display_name": "sa_lang",
   "language": "python",
   "name": "sa_lang"
  },
  "language_info": {
   "codemirror_mode": {
    "name": "ipython",
    "version": 3
   },
   "file_extension": ".py",
   "mimetype": "text/x-python",
   "name": "python",
   "nbconvert_exporter": "python",
   "pygments_lexer": "ipython3",
   "version": "3.5.2"
  }
 },
 "nbformat": 4,
 "nbformat_minor": 2
}
