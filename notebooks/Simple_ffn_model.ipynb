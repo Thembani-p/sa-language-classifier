{
 "cells": [
  {
   "cell_type": "markdown",
   "metadata": {},
   "source": [
    "# Test the simple feed forward model"
   ]
  },
  {
   "cell_type": "code",
   "execution_count": 1,
   "metadata": {},
   "outputs": [
    {
     "name": "stderr",
     "output_type": "stream",
     "text": [
      "Using TensorFlow backend.\n"
     ]
    }
   ],
   "source": [
    "import json\n",
    "\n",
    "import numpy as np\n",
    "import pandas as pd\n",
    "\n",
    "import nltk\n",
    "\n",
    "from sklearn.model_selection import train_test_split\n"
   ]
  },
  {
   "cell_type": "code",
   "execution_count": null,
   "metadata": {
    "collapsed": true
   },
   "outputs": [],
   "source": [
    "import sys\n",
    "\n",
    "sys.path.append('../modules')\n",
    "from data import flatten_data, prepare_training_data, prepare_test_data"
   ]
  },
  {
   "cell_type": "markdown",
   "metadata": {},
   "source": [
    "## Read data"
   ]
  },
  {
   "cell_type": "code",
   "execution_count": 3,
   "metadata": {
    "collapsed": true
   },
   "outputs": [],
   "source": [
    "with open('../data/single_corpora.json') as datafile:\n",
    "    single_corpora = json.load(datafile)"
   ]
  },
  {
   "cell_type": "code",
   "execution_count": null,
   "metadata": {
    "collapsed": true
   },
   "outputs": [],
   "source": [
    "# document class balance\n",
    "[len(i) for i in single_corpora]"
   ]
  },
  {
   "cell_type": "markdown",
   "metadata": {},
   "source": [
    "## Prepare data"
   ]
  },
  {
   "cell_type": "code",
   "execution_count": 30,
   "metadata": {
    "collapsed": true
   },
   "outputs": [],
   "source": [
    "flat_corpora, flat_labels = flatten_data(single_corpora[2:5], language_key)"
   ]
  },
  {
   "cell_type": "code",
   "execution_count": 31,
   "metadata": {
    "collapsed": true
   },
   "outputs": [],
   "source": [
    "document_matrix, labels, pipeline_instance = prepare_training_data(flat_corpora, flat_labels)"
   ]
  },
  {
   "cell_type": "code",
   "execution_count": 32,
   "metadata": {},
   "outputs": [
    {
     "data": {
      "text/plain": [
       "((193888, 1989), (193888, 3), Pipeline(memory=None,\n",
       "      steps=[('vect', CountVectorizer(analyzer='char', binary=False, decode_error='strict',\n",
       "         dtype=<class 'numpy.int64'>, encoding='utf-8', input='content',\n",
       "         lowercase=True, max_df=1.0, max_features=None, min_df=1,\n",
       "         ngram_range=(2, 2), preprocessor=None, stop_words=None,\n",
       "         strip_accents=None, token_pattern='(?u)\\\\b\\\\w\\\\w+\\\\b',\n",
       "         tokenizer=None, vocabulary=None)), ('tfidf', TfidfTransformer(norm='l2', smooth_idf=True, sublinear_tf=False, use_idf=True))]))"
      ]
     },
     "execution_count": 32,
     "metadata": {},
     "output_type": "execute_result"
    }
   ],
   "source": [
    "document_matrix.shape, labels.shape, pipeline_instance"
   ]
  },
  {
   "cell_type": "code",
   "execution_count": 38,
   "metadata": {
    "collapsed": true
   },
   "outputs": [],
   "source": [
    "X_train, X_test, y_train, y_test = train_test_split(document_matrix, \n",
    "                                                    labels,\n",
    "                                                    test_size=0.25, \n",
    "                                                    random_state=123)"
   ]
  },
  {
   "cell_type": "code",
   "execution_count": 39,
   "metadata": {
    "collapsed": true
   },
   "outputs": [],
   "source": [
    "X_train, X_valid, y_train, y_valid = train_test_split(X_train, \n",
    "                                                      y_train, \n",
    "                                                      test_size=0.25, \n",
    "                                                      random_state=321)"
   ]
  },
  {
   "cell_type": "markdown",
   "metadata": {},
   "source": [
    "## Create and train model"
   ]
  },
  {
   "cell_type": "code",
   "execution_count": 42,
   "metadata": {
    "scrolled": false
   },
   "outputs": [
    {
     "name": "stdout",
     "output_type": "stream",
     "text": [
      "__________________________________________________________________________________________________\n",
      "Layer (type)                    Output Shape         Param #     Connected to                     \n",
      "==================================================================================================\n",
      "input_1 (InputLayer)            (None, 1989)         0                                            \n",
      "__________________________________________________________________________________________________\n",
      "dense_1 (Dense)                 (None, 128)          254720      input_1[0][0]                    \n",
      "__________________________________________________________________________________________________\n",
      "activation_1 (Activation)       (None, 128)          0           dense_1[0][0]                    \n",
      "__________________________________________________________________________________________________\n",
      "dropout_1 (Dropout)             (None, 128)          0           activation_1[0][0]               \n",
      "__________________________________________________________________________________________________\n",
      "batch_normalization_1 (BatchNor (None, 128)          512         dropout_1[0][0]                  \n",
      "__________________________________________________________________________________________________\n",
      "attention_probs (Dense)         (None, 128)          16512       batch_normalization_1[0][0]      \n",
      "__________________________________________________________________________________________________\n",
      "attention_mul (Multiply)        (None, 128)          0           batch_normalization_1[0][0]      \n",
      "                                                                 attention_probs[0][0]            \n",
      "__________________________________________________________________________________________________\n",
      "dense_2 (Dense)                 (None, 3)            387         attention_mul[0][0]              \n",
      "__________________________________________________________________________________________________\n",
      "activation_2 (Activation)       (None, 3)            0           dense_2[0][0]                    \n",
      "==================================================================================================\n",
      "Total params: 272,131\n",
      "Trainable params: 271,875\n",
      "Non-trainable params: 256\n",
      "__________________________________________________________________________________________________\n"
     ]
    }
   ],
   "source": [
    "model = simple_ffn(X_train, y_train)\n",
    "model.summary()"
   ]
  },
  {
   "cell_type": "code",
   "execution_count": 43,
   "metadata": {
    "scrolled": false
   },
   "outputs": [
    {
     "name": "stdout",
     "output_type": "stream",
     "text": [
      "Epoch 1/5\n",
      "109062/109062 [==============================] - 32s 296us/step - loss: 0.7576 - acc: 0.9017\n",
      "Epoch 2/5\n",
      "109062/109062 [==============================] - 34s 310us/step - loss: 0.4361 - acc: 0.9149\n",
      "Epoch 3/5\n",
      "109062/109062 [==============================] - 33s 302us/step - loss: 0.2700 - acc: 0.9237\n",
      "Epoch 4/5\n",
      "109062/109062 [==============================] - 33s 303us/step - loss: 0.1791 - acc: 0.9482\n",
      "Epoch 5/5\n",
      "109062/109062 [==============================] - 31s 282us/step - loss: 0.1095 - acc: 0.9802\n"
     ]
    },
    {
     "data": {
      "text/plain": [
       "<keras.callbacks.History at 0x7f9089b79a20>"
      ]
     },
     "execution_count": 43,
     "metadata": {},
     "output_type": "execute_result"
    }
   ],
   "source": [
    "model.fit(X_train, y_train, epochs=5, validation_data=())"
   ]
  },
  {
   "cell_type": "markdown",
   "metadata": {},
   "source": [
    "## Test on unseen data "
   ]
  },
  {
   "cell_type": "code",
   "execution_count": 46,
   "metadata": {
    "collapsed": true
   },
   "outputs": [],
   "source": [
    "flat_corpora_out, flat_labels_out = flatten_data(single_corpora[5:7], language_key)\n",
    "document_matrix_out, labels_out = prepare_test_data(flat_corpora_out, flat_labels_out, pipeline_instance)"
   ]
  },
  {
   "cell_type": "code",
   "execution_count": 50,
   "metadata": {},
   "outputs": [
    {
     "data": {
      "text/plain": [
       "['tn', 'ss']"
      ]
     },
     "execution_count": 50,
     "metadata": {},
     "output_type": "execute_result"
    }
   ],
   "source": [
    "language_key[5:7]"
   ]
  },
  {
   "cell_type": "code",
   "execution_count": 49,
   "metadata": {},
   "outputs": [
    {
     "data": {
      "text/html": [
       "<div>\n",
       "<style scoped>\n",
       "    .dataframe tbody tr th:only-of-type {\n",
       "        vertical-align: middle;\n",
       "    }\n",
       "\n",
       "    .dataframe tbody tr th {\n",
       "        vertical-align: top;\n",
       "    }\n",
       "\n",
       "    .dataframe thead th {\n",
       "        text-align: right;\n",
       "    }\n",
       "</style>\n",
       "<table border=\"1\" class=\"dataframe\">\n",
       "  <thead>\n",
       "    <tr style=\"text-align: right;\">\n",
       "      <th></th>\n",
       "      <th>zu</th>\n",
       "      <th>nso</th>\n",
       "      <th>st</th>\n",
       "    </tr>\n",
       "  </thead>\n",
       "  <tbody>\n",
       "    <tr>\n",
       "      <th>0</th>\n",
       "      <td>0.077831</td>\n",
       "      <td>0.871820</td>\n",
       "      <td>0.050349</td>\n",
       "    </tr>\n",
       "    <tr>\n",
       "      <th>1</th>\n",
       "      <td>0.068583</td>\n",
       "      <td>0.887316</td>\n",
       "      <td>0.044101</td>\n",
       "    </tr>\n",
       "    <tr>\n",
       "      <th>2</th>\n",
       "      <td>0.047144</td>\n",
       "      <td>0.923146</td>\n",
       "      <td>0.029710</td>\n",
       "    </tr>\n",
       "    <tr>\n",
       "      <th>3</th>\n",
       "      <td>0.200527</td>\n",
       "      <td>0.652000</td>\n",
       "      <td>0.147473</td>\n",
       "    </tr>\n",
       "    <tr>\n",
       "      <th>4</th>\n",
       "      <td>0.059658</td>\n",
       "      <td>0.902673</td>\n",
       "      <td>0.037669</td>\n",
       "    </tr>\n",
       "    <tr>\n",
       "      <th>5</th>\n",
       "      <td>0.068310</td>\n",
       "      <td>0.889005</td>\n",
       "      <td>0.042685</td>\n",
       "    </tr>\n",
       "    <tr>\n",
       "      <th>6</th>\n",
       "      <td>0.081560</td>\n",
       "      <td>0.177043</td>\n",
       "      <td>0.741398</td>\n",
       "    </tr>\n",
       "    <tr>\n",
       "      <th>7</th>\n",
       "      <td>0.080432</td>\n",
       "      <td>0.868749</td>\n",
       "      <td>0.050819</td>\n",
       "    </tr>\n",
       "    <tr>\n",
       "      <th>8</th>\n",
       "      <td>0.100938</td>\n",
       "      <td>0.831717</td>\n",
       "      <td>0.067345</td>\n",
       "    </tr>\n",
       "    <tr>\n",
       "      <th>9</th>\n",
       "      <td>0.175211</td>\n",
       "      <td>0.349944</td>\n",
       "      <td>0.474845</td>\n",
       "    </tr>\n",
       "    <tr>\n",
       "      <th>10</th>\n",
       "      <td>0.111620</td>\n",
       "      <td>0.219558</td>\n",
       "      <td>0.668822</td>\n",
       "    </tr>\n",
       "    <tr>\n",
       "      <th>11</th>\n",
       "      <td>0.035940</td>\n",
       "      <td>0.941722</td>\n",
       "      <td>0.022338</td>\n",
       "    </tr>\n",
       "    <tr>\n",
       "      <th>12</th>\n",
       "      <td>0.085880</td>\n",
       "      <td>0.145542</td>\n",
       "      <td>0.768578</td>\n",
       "    </tr>\n",
       "    <tr>\n",
       "      <th>13</th>\n",
       "      <td>0.031566</td>\n",
       "      <td>0.948908</td>\n",
       "      <td>0.019525</td>\n",
       "    </tr>\n",
       "    <tr>\n",
       "      <th>14</th>\n",
       "      <td>0.119339</td>\n",
       "      <td>0.804921</td>\n",
       "      <td>0.075739</td>\n",
       "    </tr>\n",
       "    <tr>\n",
       "      <th>15</th>\n",
       "      <td>0.127390</td>\n",
       "      <td>0.765012</td>\n",
       "      <td>0.107598</td>\n",
       "    </tr>\n",
       "    <tr>\n",
       "      <th>16</th>\n",
       "      <td>0.056027</td>\n",
       "      <td>0.089379</td>\n",
       "      <td>0.854593</td>\n",
       "    </tr>\n",
       "    <tr>\n",
       "      <th>17</th>\n",
       "      <td>0.070278</td>\n",
       "      <td>0.884530</td>\n",
       "      <td>0.045192</td>\n",
       "    </tr>\n",
       "    <tr>\n",
       "      <th>18</th>\n",
       "      <td>0.164760</td>\n",
       "      <td>0.568343</td>\n",
       "      <td>0.266897</td>\n",
       "    </tr>\n",
       "    <tr>\n",
       "      <th>19</th>\n",
       "      <td>0.106364</td>\n",
       "      <td>0.796936</td>\n",
       "      <td>0.096700</td>\n",
       "    </tr>\n",
       "    <tr>\n",
       "      <th>20</th>\n",
       "      <td>0.097873</td>\n",
       "      <td>0.187222</td>\n",
       "      <td>0.714906</td>\n",
       "    </tr>\n",
       "    <tr>\n",
       "      <th>21</th>\n",
       "      <td>0.104809</td>\n",
       "      <td>0.828217</td>\n",
       "      <td>0.066973</td>\n",
       "    </tr>\n",
       "    <tr>\n",
       "      <th>22</th>\n",
       "      <td>0.130214</td>\n",
       "      <td>0.778252</td>\n",
       "      <td>0.091534</td>\n",
       "    </tr>\n",
       "    <tr>\n",
       "      <th>23</th>\n",
       "      <td>0.070620</td>\n",
       "      <td>0.880383</td>\n",
       "      <td>0.048997</td>\n",
       "    </tr>\n",
       "    <tr>\n",
       "      <th>24</th>\n",
       "      <td>0.089755</td>\n",
       "      <td>0.853025</td>\n",
       "      <td>0.057220</td>\n",
       "    </tr>\n",
       "    <tr>\n",
       "      <th>25</th>\n",
       "      <td>0.126440</td>\n",
       "      <td>0.712529</td>\n",
       "      <td>0.161031</td>\n",
       "    </tr>\n",
       "    <tr>\n",
       "      <th>26</th>\n",
       "      <td>0.182959</td>\n",
       "      <td>0.618958</td>\n",
       "      <td>0.198082</td>\n",
       "    </tr>\n",
       "    <tr>\n",
       "      <th>27</th>\n",
       "      <td>0.066710</td>\n",
       "      <td>0.888038</td>\n",
       "      <td>0.045252</td>\n",
       "    </tr>\n",
       "    <tr>\n",
       "      <th>28</th>\n",
       "      <td>0.054719</td>\n",
       "      <td>0.911077</td>\n",
       "      <td>0.034204</td>\n",
       "    </tr>\n",
       "    <tr>\n",
       "      <th>29</th>\n",
       "      <td>0.056667</td>\n",
       "      <td>0.907926</td>\n",
       "      <td>0.035407</td>\n",
       "    </tr>\n",
       "    <tr>\n",
       "      <th>...</th>\n",
       "      <td>...</td>\n",
       "      <td>...</td>\n",
       "      <td>...</td>\n",
       "    </tr>\n",
       "    <tr>\n",
       "      <th>78316</th>\n",
       "      <td>0.968297</td>\n",
       "      <td>0.018301</td>\n",
       "      <td>0.013403</td>\n",
       "    </tr>\n",
       "    <tr>\n",
       "      <th>78317</th>\n",
       "      <td>0.968283</td>\n",
       "      <td>0.018309</td>\n",
       "      <td>0.013408</td>\n",
       "    </tr>\n",
       "    <tr>\n",
       "      <th>78318</th>\n",
       "      <td>0.968271</td>\n",
       "      <td>0.018316</td>\n",
       "      <td>0.013413</td>\n",
       "    </tr>\n",
       "    <tr>\n",
       "      <th>78319</th>\n",
       "      <td>0.968242</td>\n",
       "      <td>0.018334</td>\n",
       "      <td>0.013425</td>\n",
       "    </tr>\n",
       "    <tr>\n",
       "      <th>78320</th>\n",
       "      <td>0.968290</td>\n",
       "      <td>0.018305</td>\n",
       "      <td>0.013405</td>\n",
       "    </tr>\n",
       "    <tr>\n",
       "      <th>78321</th>\n",
       "      <td>0.968270</td>\n",
       "      <td>0.018317</td>\n",
       "      <td>0.013413</td>\n",
       "    </tr>\n",
       "    <tr>\n",
       "      <th>78322</th>\n",
       "      <td>0.968214</td>\n",
       "      <td>0.018351</td>\n",
       "      <td>0.013435</td>\n",
       "    </tr>\n",
       "    <tr>\n",
       "      <th>78323</th>\n",
       "      <td>0.968288</td>\n",
       "      <td>0.018306</td>\n",
       "      <td>0.013406</td>\n",
       "    </tr>\n",
       "    <tr>\n",
       "      <th>78324</th>\n",
       "      <td>0.968267</td>\n",
       "      <td>0.018318</td>\n",
       "      <td>0.013414</td>\n",
       "    </tr>\n",
       "    <tr>\n",
       "      <th>78325</th>\n",
       "      <td>0.968261</td>\n",
       "      <td>0.018322</td>\n",
       "      <td>0.013417</td>\n",
       "    </tr>\n",
       "    <tr>\n",
       "      <th>78326</th>\n",
       "      <td>0.968295</td>\n",
       "      <td>0.018302</td>\n",
       "      <td>0.013403</td>\n",
       "    </tr>\n",
       "    <tr>\n",
       "      <th>78327</th>\n",
       "      <td>0.968294</td>\n",
       "      <td>0.018303</td>\n",
       "      <td>0.013404</td>\n",
       "    </tr>\n",
       "    <tr>\n",
       "      <th>78328</th>\n",
       "      <td>0.968199</td>\n",
       "      <td>0.018359</td>\n",
       "      <td>0.013442</td>\n",
       "    </tr>\n",
       "    <tr>\n",
       "      <th>78329</th>\n",
       "      <td>0.968078</td>\n",
       "      <td>0.018432</td>\n",
       "      <td>0.013490</td>\n",
       "    </tr>\n",
       "    <tr>\n",
       "      <th>78330</th>\n",
       "      <td>0.968159</td>\n",
       "      <td>0.018384</td>\n",
       "      <td>0.013457</td>\n",
       "    </tr>\n",
       "    <tr>\n",
       "      <th>78331</th>\n",
       "      <td>0.968253</td>\n",
       "      <td>0.018327</td>\n",
       "      <td>0.013420</td>\n",
       "    </tr>\n",
       "    <tr>\n",
       "      <th>78332</th>\n",
       "      <td>0.968209</td>\n",
       "      <td>0.018354</td>\n",
       "      <td>0.013438</td>\n",
       "    </tr>\n",
       "    <tr>\n",
       "      <th>78333</th>\n",
       "      <td>0.008531</td>\n",
       "      <td>0.019874</td>\n",
       "      <td>0.971596</td>\n",
       "    </tr>\n",
       "    <tr>\n",
       "      <th>78334</th>\n",
       "      <td>0.968292</td>\n",
       "      <td>0.018304</td>\n",
       "      <td>0.013404</td>\n",
       "    </tr>\n",
       "    <tr>\n",
       "      <th>78335</th>\n",
       "      <td>0.968285</td>\n",
       "      <td>0.018308</td>\n",
       "      <td>0.013407</td>\n",
       "    </tr>\n",
       "    <tr>\n",
       "      <th>78336</th>\n",
       "      <td>0.968250</td>\n",
       "      <td>0.018329</td>\n",
       "      <td>0.013421</td>\n",
       "    </tr>\n",
       "    <tr>\n",
       "      <th>78337</th>\n",
       "      <td>0.968294</td>\n",
       "      <td>0.018302</td>\n",
       "      <td>0.013404</td>\n",
       "    </tr>\n",
       "    <tr>\n",
       "      <th>78338</th>\n",
       "      <td>0.968273</td>\n",
       "      <td>0.018315</td>\n",
       "      <td>0.013412</td>\n",
       "    </tr>\n",
       "    <tr>\n",
       "      <th>78339</th>\n",
       "      <td>0.966640</td>\n",
       "      <td>0.019301</td>\n",
       "      <td>0.014059</td>\n",
       "    </tr>\n",
       "    <tr>\n",
       "      <th>78340</th>\n",
       "      <td>0.968283</td>\n",
       "      <td>0.018309</td>\n",
       "      <td>0.013408</td>\n",
       "    </tr>\n",
       "    <tr>\n",
       "      <th>78341</th>\n",
       "      <td>0.968272</td>\n",
       "      <td>0.018316</td>\n",
       "      <td>0.013412</td>\n",
       "    </tr>\n",
       "    <tr>\n",
       "      <th>78342</th>\n",
       "      <td>0.968286</td>\n",
       "      <td>0.018307</td>\n",
       "      <td>0.013407</td>\n",
       "    </tr>\n",
       "    <tr>\n",
       "      <th>78343</th>\n",
       "      <td>0.968284</td>\n",
       "      <td>0.018308</td>\n",
       "      <td>0.013408</td>\n",
       "    </tr>\n",
       "    <tr>\n",
       "      <th>78344</th>\n",
       "      <td>0.968294</td>\n",
       "      <td>0.018303</td>\n",
       "      <td>0.013404</td>\n",
       "    </tr>\n",
       "    <tr>\n",
       "      <th>78345</th>\n",
       "      <td>0.968282</td>\n",
       "      <td>0.018310</td>\n",
       "      <td>0.013408</td>\n",
       "    </tr>\n",
       "  </tbody>\n",
       "</table>\n",
       "<p>78346 rows × 3 columns</p>\n",
       "</div>"
      ],
      "text/plain": [
       "             zu       nso        st\n",
       "0      0.077831  0.871820  0.050349\n",
       "1      0.068583  0.887316  0.044101\n",
       "2      0.047144  0.923146  0.029710\n",
       "3      0.200527  0.652000  0.147473\n",
       "4      0.059658  0.902673  0.037669\n",
       "5      0.068310  0.889005  0.042685\n",
       "6      0.081560  0.177043  0.741398\n",
       "7      0.080432  0.868749  0.050819\n",
       "8      0.100938  0.831717  0.067345\n",
       "9      0.175211  0.349944  0.474845\n",
       "10     0.111620  0.219558  0.668822\n",
       "11     0.035940  0.941722  0.022338\n",
       "12     0.085880  0.145542  0.768578\n",
       "13     0.031566  0.948908  0.019525\n",
       "14     0.119339  0.804921  0.075739\n",
       "15     0.127390  0.765012  0.107598\n",
       "16     0.056027  0.089379  0.854593\n",
       "17     0.070278  0.884530  0.045192\n",
       "18     0.164760  0.568343  0.266897\n",
       "19     0.106364  0.796936  0.096700\n",
       "20     0.097873  0.187222  0.714906\n",
       "21     0.104809  0.828217  0.066973\n",
       "22     0.130214  0.778252  0.091534\n",
       "23     0.070620  0.880383  0.048997\n",
       "24     0.089755  0.853025  0.057220\n",
       "25     0.126440  0.712529  0.161031\n",
       "26     0.182959  0.618958  0.198082\n",
       "27     0.066710  0.888038  0.045252\n",
       "28     0.054719  0.911077  0.034204\n",
       "29     0.056667  0.907926  0.035407\n",
       "...         ...       ...       ...\n",
       "78316  0.968297  0.018301  0.013403\n",
       "78317  0.968283  0.018309  0.013408\n",
       "78318  0.968271  0.018316  0.013413\n",
       "78319  0.968242  0.018334  0.013425\n",
       "78320  0.968290  0.018305  0.013405\n",
       "78321  0.968270  0.018317  0.013413\n",
       "78322  0.968214  0.018351  0.013435\n",
       "78323  0.968288  0.018306  0.013406\n",
       "78324  0.968267  0.018318  0.013414\n",
       "78325  0.968261  0.018322  0.013417\n",
       "78326  0.968295  0.018302  0.013403\n",
       "78327  0.968294  0.018303  0.013404\n",
       "78328  0.968199  0.018359  0.013442\n",
       "78329  0.968078  0.018432  0.013490\n",
       "78330  0.968159  0.018384  0.013457\n",
       "78331  0.968253  0.018327  0.013420\n",
       "78332  0.968209  0.018354  0.013438\n",
       "78333  0.008531  0.019874  0.971596\n",
       "78334  0.968292  0.018304  0.013404\n",
       "78335  0.968285  0.018308  0.013407\n",
       "78336  0.968250  0.018329  0.013421\n",
       "78337  0.968294  0.018302  0.013404\n",
       "78338  0.968273  0.018315  0.013412\n",
       "78339  0.966640  0.019301  0.014059\n",
       "78340  0.968283  0.018309  0.013408\n",
       "78341  0.968272  0.018316  0.013412\n",
       "78342  0.968286  0.018307  0.013407\n",
       "78343  0.968284  0.018308  0.013408\n",
       "78344  0.968294  0.018303  0.013404\n",
       "78345  0.968282  0.018310  0.013408\n",
       "\n",
       "[78346 rows x 3 columns]"
      ]
     },
     "execution_count": 49,
     "metadata": {},
     "output_type": "execute_result"
    }
   ],
   "source": [
    "pd.DataFrame(model.predict(document_matrix_out),columns=language_key[2:5])"
   ]
  }
 ],
 "metadata": {
  "kernelspec": {
   "display_name": "sa_lang",
   "language": "python",
   "name": "sa_lang"
  },
  "language_info": {
   "codemirror_mode": {
    "name": "ipython",
    "version": 3
   },
   "file_extension": ".py",
   "mimetype": "text/x-python",
   "name": "python",
   "nbconvert_exporter": "python",
   "pygments_lexer": "ipython3",
   "version": "3.5.2"
  }
 },
 "nbformat": 4,
 "nbformat_minor": 2
}
